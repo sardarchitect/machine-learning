{
 "cells": [
  {
   "cell_type": "markdown",
   "id": "51e40f42",
   "metadata": {},
   "source": [
    "## Imports"
   ]
  },
  {
   "cell_type": "code",
   "execution_count": 1,
   "id": "2809752b",
   "metadata": {},
   "outputs": [],
   "source": [
    "import json\n",
    "import pandas as pd\n",
    "import os\n",
    "import numpy as np\n",
    "import matplotlib.pyplot as plt"
   ]
  },
  {
   "cell_type": "markdown",
   "id": "8afa020b",
   "metadata": {},
   "source": [
    "## Data Ingestion"
   ]
  },
  {
   "cell_type": "code",
   "execution_count": 2,
   "id": "1ebb70dd",
   "metadata": {},
   "outputs": [],
   "source": [
    "filepaths = []\n",
    "for dirs in os.listdir('./data'):\n",
    "    for file in os.listdir(f\"./data/{dirs}\"):\n",
    "        file = f\"./data/{dirs}/{file}\"\n",
    "        filepaths.append(file)"
   ]
  },
  {
   "cell_type": "code",
   "execution_count": 3,
   "id": "50f3f1eb",
   "metadata": {},
   "outputs": [],
   "source": [
    "eventsDict = {}"
   ]
  },
  {
   "cell_type": "code",
   "execution_count": 4,
   "id": "33ffe950",
   "metadata": {},
   "outputs": [],
   "source": [
    "for file in filepaths:\n",
    "    if \"primary\" in file:\n",
    "        category = \"personal\"\n",
    "    if \"cadsvskbdp4b4a5njoeh4lp314\" in file:\n",
    "        category = \"project\"\n",
    "    if \"eumcrv5gkahhq8o98uej4ame8\" in file:\n",
    "        category = \"wellness\"\n",
    "    f = open(file, 'r')\n",
    "    f_json = json.loads(f.read())\n",
    "    f_json_events = (f_json['items'])\n",
    "    if f_json_events != []:\n",
    "#         print(file)\n",
    "        for event in f_json_events:\n",
    "            eventsDict[event['id']] = [category, event['summary'], event['start'], event['end']]\n",
    "    f.close()"
   ]
  },
  {
   "cell_type": "code",
   "execution_count": 5,
   "id": "7bd17968",
   "metadata": {},
   "outputs": [
    {
     "data": {
      "text/plain": [
       "9768"
      ]
     },
     "execution_count": 5,
     "metadata": {},
     "output_type": "execute_result"
    }
   ],
   "source": [
    "len(eventsDict)"
   ]
  },
  {
   "cell_type": "markdown",
   "id": "90de2b86",
   "metadata": {},
   "source": [
    "## Data Cleaning"
   ]
  },
  {
   "cell_type": "code",
   "execution_count": 6,
   "id": "82586734",
   "metadata": {},
   "outputs": [],
   "source": [
    "## ONLY RUN ONCE\n",
    "# Some events have datetime while others have only date, this deals with that\n",
    "for event in eventsDict:\n",
    "    for i in range(2,4):\n",
    "        eventDateTime = eventsDict[event][i]\n",
    "        for key in eventDateTime:\n",
    "            if 'dateTime' in eventDateTime.keys():\n",
    "                eventsDict[event][i] = eventDateTime['dateTime']\n",
    "            if 'date' in eventDateTime.keys():\n",
    "                eventsDict[event][i] = eventDateTime['date']"
   ]
  },
  {
   "cell_type": "code",
   "execution_count": 7,
   "id": "b1439d73",
   "metadata": {
    "scrolled": false
   },
   "outputs": [],
   "source": [
    "df = pd.DataFrame.from_dict(eventsDict, orient='index')\n",
    "df.rename({0: 'category', 1:'summary', 2:'start',3:'end'}, axis=1, inplace=True)"
   ]
  },
  {
   "cell_type": "code",
   "execution_count": 8,
   "id": "aff81d90",
   "metadata": {},
   "outputs": [],
   "source": [
    "# Convert start and end to datetime objects and deal with timezones\n",
    "df['start'] = pd.to_datetime(df['start'], utc=True)\n",
    "df['start'] = df['start'].dt.tz_convert('US/Eastern')\n",
    "df['end'] = pd.to_datetime(df['end'], utc=True)\n",
    "df['end'] = df['end'].dt.tz_convert('US/Eastern')\n",
    "\n",
    "# Create a new column for timedelta durations\n",
    "df['duration'] = (df['end'] - df['start']).astype('timedelta64[m]')\n",
    "# Create a new column for start day\n",
    "df['date'] = df['start'].dt.date\n",
    "\n",
    "# Sort by start time\n",
    "df.sort_values('start', inplace=True)"
   ]
  },
  {
   "cell_type": "markdown",
   "id": "f5eb0b19",
   "metadata": {},
   "source": [
    "## Analysis\n",
    "\n",
    "**Questions we want to answer**\n",
    "\n",
    "- How many unique events are there?\n",
    "- What are their cumulative hours? \n",
    "- How many hours do my events cumilate to? \n",
    "- How much time am I spending on each category?\n",
    "- How much sleep am I getting?\n",
    "- Frequency of events"
   ]
  },
  {
   "cell_type": "code",
   "execution_count": 9,
   "id": "2ce4e502",
   "metadata": {},
   "outputs": [
    {
     "data": {
      "text/html": [
       "<div>\n",
       "<style scoped>\n",
       "    .dataframe tbody tr th:only-of-type {\n",
       "        vertical-align: middle;\n",
       "    }\n",
       "\n",
       "    .dataframe tbody tr th {\n",
       "        vertical-align: top;\n",
       "    }\n",
       "\n",
       "    .dataframe thead th {\n",
       "        text-align: right;\n",
       "    }\n",
       "</style>\n",
       "<table border=\"1\" class=\"dataframe\">\n",
       "  <thead>\n",
       "    <tr style=\"text-align: right;\">\n",
       "      <th></th>\n",
       "      <th>category</th>\n",
       "      <th>summary</th>\n",
       "      <th>start</th>\n",
       "      <th>end</th>\n",
       "      <th>duration</th>\n",
       "      <th>date</th>\n",
       "    </tr>\n",
       "  </thead>\n",
       "  <tbody>\n",
       "    <tr>\n",
       "      <th>_891kcg9o6ssjab9m8l332b9k60qk8b9p84rj6b9h8or3ge9k8kq4cdpj6o</th>\n",
       "      <td>personal</td>\n",
       "      <td>Speaker at Sham uncle place</td>\n",
       "      <td>2017-06-02 05:30:00-04:00</td>\n",
       "      <td>2017-06-02 06:30:00-04:00</td>\n",
       "      <td>60.0</td>\n",
       "      <td>2017-06-02</td>\n",
       "    </tr>\n",
       "    <tr>\n",
       "      <th>_8go44dpp8p2j6ba16oqjgb9k6kp4ab9p8l0j8b9n8p1k6gpi8d2j4e9p6k</th>\n",
       "      <td>personal</td>\n",
       "      <td>Meet Navneet</td>\n",
       "      <td>2017-06-06 08:30:00-04:00</td>\n",
       "      <td>2017-06-06 09:30:00-04:00</td>\n",
       "      <td>60.0</td>\n",
       "      <td>2017-06-06</td>\n",
       "    </tr>\n",
       "    <tr>\n",
       "      <th>_70s32d9m6523ab9n650j8b9k64ok2ba26t234b9i8l1k8e9l70o42d1g74</th>\n",
       "      <td>personal</td>\n",
       "      <td>Fateh house</td>\n",
       "      <td>2017-06-09 08:30:00-04:00</td>\n",
       "      <td>2017-06-09 09:30:00-04:00</td>\n",
       "      <td>60.0</td>\n",
       "      <td>2017-06-09</td>\n",
       "    </tr>\n",
       "    <tr>\n",
       "      <th>_88o3gdpm8cs3eb9p88r44b9k8os4aba28cs42b9p651j8da16t0jagpo68</th>\n",
       "      <td>personal</td>\n",
       "      <td>Read #1</td>\n",
       "      <td>2017-06-23 10:00:00-04:00</td>\n",
       "      <td>2017-06-23 12:00:00-04:00</td>\n",
       "      <td>120.0</td>\n",
       "      <td>2017-06-23</td>\n",
       "    </tr>\n",
       "    <tr>\n",
       "      <th>_8kq3cea56gp36b9j60r3eb9k68pj6b9p65146ba16gqjcci471148c1g60</th>\n",
       "      <td>personal</td>\n",
       "      <td>International student check in</td>\n",
       "      <td>2017-06-23 13:00:00-04:00</td>\n",
       "      <td>2017-06-23 15:30:00-04:00</td>\n",
       "      <td>150.0</td>\n",
       "      <td>2017-06-23</td>\n",
       "    </tr>\n",
       "  </tbody>\n",
       "</table>\n",
       "</div>"
      ],
      "text/plain": [
       "                                                    category  \\\n",
       "_891kcg9o6ssjab9m8l332b9k60qk8b9p84rj6b9h8or3ge...  personal   \n",
       "_8go44dpp8p2j6ba16oqjgb9k6kp4ab9p8l0j8b9n8p1k6g...  personal   \n",
       "_70s32d9m6523ab9n650j8b9k64ok2ba26t234b9i8l1k8e...  personal   \n",
       "_88o3gdpm8cs3eb9p88r44b9k8os4aba28cs42b9p651j8d...  personal   \n",
       "_8kq3cea56gp36b9j60r3eb9k68pj6b9p65146ba16gqjcc...  personal   \n",
       "\n",
       "                                                                           summary  \\\n",
       "_891kcg9o6ssjab9m8l332b9k60qk8b9p84rj6b9h8or3ge...    Speaker at Sham uncle place    \n",
       "_8go44dpp8p2j6ba16oqjgb9k6kp4ab9p8l0j8b9n8p1k6g...                   Meet Navneet    \n",
       "_70s32d9m6523ab9n650j8b9k64ok2ba26t234b9i8l1k8e...                    Fateh house    \n",
       "_88o3gdpm8cs3eb9p88r44b9k8os4aba28cs42b9p651j8d...                         Read #1   \n",
       "_8kq3cea56gp36b9j60r3eb9k68pj6b9p65146ba16gqjcc...  International student check in   \n",
       "\n",
       "                                                                       start  \\\n",
       "_891kcg9o6ssjab9m8l332b9k60qk8b9p84rj6b9h8or3ge... 2017-06-02 05:30:00-04:00   \n",
       "_8go44dpp8p2j6ba16oqjgb9k6kp4ab9p8l0j8b9n8p1k6g... 2017-06-06 08:30:00-04:00   \n",
       "_70s32d9m6523ab9n650j8b9k64ok2ba26t234b9i8l1k8e... 2017-06-09 08:30:00-04:00   \n",
       "_88o3gdpm8cs3eb9p88r44b9k8os4aba28cs42b9p651j8d... 2017-06-23 10:00:00-04:00   \n",
       "_8kq3cea56gp36b9j60r3eb9k68pj6b9p65146ba16gqjcc... 2017-06-23 13:00:00-04:00   \n",
       "\n",
       "                                                                         end  \\\n",
       "_891kcg9o6ssjab9m8l332b9k60qk8b9p84rj6b9h8or3ge... 2017-06-02 06:30:00-04:00   \n",
       "_8go44dpp8p2j6ba16oqjgb9k6kp4ab9p8l0j8b9n8p1k6g... 2017-06-06 09:30:00-04:00   \n",
       "_70s32d9m6523ab9n650j8b9k64ok2ba26t234b9i8l1k8e... 2017-06-09 09:30:00-04:00   \n",
       "_88o3gdpm8cs3eb9p88r44b9k8os4aba28cs42b9p651j8d... 2017-06-23 12:00:00-04:00   \n",
       "_8kq3cea56gp36b9j60r3eb9k68pj6b9p65146ba16gqjcc... 2017-06-23 15:30:00-04:00   \n",
       "\n",
       "                                                    duration        date  \n",
       "_891kcg9o6ssjab9m8l332b9k60qk8b9p84rj6b9h8or3ge...      60.0  2017-06-02  \n",
       "_8go44dpp8p2j6ba16oqjgb9k6kp4ab9p8l0j8b9n8p1k6g...      60.0  2017-06-06  \n",
       "_70s32d9m6523ab9n650j8b9k64ok2ba26t234b9i8l1k8e...      60.0  2017-06-09  \n",
       "_88o3gdpm8cs3eb9p88r44b9k8os4aba28cs42b9p651j8d...     120.0  2017-06-23  \n",
       "_8kq3cea56gp36b9j60r3eb9k68pj6b9p65146ba16gqjcc...     150.0  2017-06-23  "
      ]
     },
     "execution_count": 9,
     "metadata": {},
     "output_type": "execute_result"
    }
   ],
   "source": [
    "df.head()"
   ]
  },
  {
   "cell_type": "code",
   "execution_count": 10,
   "id": "26f5a412",
   "metadata": {
    "scrolled": true
   },
   "outputs": [
    {
     "name": "stdout",
     "output_type": "stream",
     "text": [
      "Number of Unique Events 1210\n"
     ]
    }
   ],
   "source": [
    "print(\"Number of Unique Events\", len(df['summary'].value_counts()))"
   ]
  },
  {
   "cell_type": "code",
   "execution_count": 11,
   "id": "998f6a3a",
   "metadata": {},
   "outputs": [
    {
     "name": "stdout",
     "output_type": "stream",
     "text": [
      "Top 20 most frequent events summary\n",
      "Sleep                       5990.0\n",
      "Work: Walker Consultants    2608.0\n",
      "Break                       1671.0\n",
      "EDA Work                    1449.0\n",
      "Lunch                        798.0\n",
      "India                        544.0\n",
      "Payday!                      504.0\n",
      "Studio                       382.0\n",
      "Dinner                       309.0\n",
      "Video Game                   298.0\n",
      "Hotel: Airbnb, Ann Arbor     288.0\n",
      "Work                         268.0\n",
      "Wake up                      238.0\n",
      "Unaccounted                  206.0\n",
      "Welax                        202.0\n",
      "Relax                        199.0\n",
      "Shower                       188.0\n",
      "ARCH 302                     173.0\n",
      "Portfolio                    164.0\n",
      "Night Routine                162.0\n",
      "Name: duration, dtype: float64\n"
     ]
    }
   ],
   "source": [
    "top20 = df.groupby('summary')['duration'].sum().sort_values(ascending=False)[:20]\n",
    "print(\"Top 20 most frequent events\", top20//60)"
   ]
  },
  {
   "cell_type": "markdown",
   "id": "a9f6f574",
   "metadata": {},
   "source": [
    "## Sleep"
   ]
  },
  {
   "cell_type": "code",
   "execution_count": 12,
   "id": "48e1fc98",
   "metadata": {},
   "outputs": [],
   "source": [
    "# How much sleep have I been getting daily this year?\n",
    "sleepdf = df[df['summary'] == (\"Sleep\")].sort_values('date')"
   ]
  },
  {
   "cell_type": "code",
   "execution_count": 13,
   "id": "7037f73a",
   "metadata": {},
   "outputs": [],
   "source": [
    "sleepdf['duration_h'] = sleepdf['duration']//60\n",
    "sleepdf['duration_h_avg']= sleepdf['duration_h'].rolling(30).mean()\n",
    "sleepdf.dropna(inplace=True)"
   ]
  },
  {
   "cell_type": "code",
   "execution_count": 14,
   "id": "80640a96",
   "metadata": {
    "scrolled": false
   },
   "outputs": [
    {
     "data": {
      "text/plain": [
       "<AxesSubplot:xlabel='date'>"
      ]
     },
     "execution_count": 14,
     "metadata": {},
     "output_type": "execute_result"
    },
    {
     "data": {
      "image/png": "[encoded data removed]",
      "text/plain": [
       "<Figure size 1600x800 with 1 Axes>"
      ]
     },
     "metadata": {},
     "output_type": "display_data"
    }
   ],
   "source": [
    "sleepdf.plot(x='date', y='duration_h_avg', kind='line', figsize=(16,8))"
   ]
  },
  {
   "cell_type": "markdown",
   "id": "c1897528",
   "metadata": {},
   "source": [
    "## Work"
   ]
  },
  {
   "cell_type": "code",
   "execution_count": 15,
   "id": "3c875be4",
   "metadata": {},
   "outputs": [],
   "source": [
    "# How much work have I been getting done this year?\n",
    "work_df = df[df['category']=='project'].sort_values('date')"
   ]
  },
  {
   "cell_type": "code",
   "execution_count": 16,
   "id": "27da43ad",
   "metadata": {},
   "outputs": [
    {
     "data": {
      "text/plain": [
       "summary\n",
       "Work: Walker Consultants    2608.0\n",
       "Work                         186.0\n",
       "Portfolio                    154.0\n",
       "ML: GANs                      57.0\n",
       "Startup: Operations           54.0\n",
       "Course: EECS598               44.0\n",
       "Course: EECS598_HW            41.0\n",
       "Startup: Marketing            39.0\n",
       "UCSD: Unit 5                  30.0\n",
       "Course: C++                   30.0\n",
       "Startup: Workflow             24.0\n",
       "ML Tutorial                   23.0\n",
       "Startup: Website              22.0\n",
       "Weekly Goals Review           20.0\n",
       "Grad Applications             19.0\n",
       "Job Search                    18.0\n",
       "UCSD: Prepwork                18.0\n",
       "Startup: Research             17.0\n",
       "MSAIL Art                     17.0\n",
       "Job Applications              14.0\n",
       "Name: duration, dtype: float64"
      ]
     },
     "execution_count": 16,
     "metadata": {},
     "output_type": "execute_result"
    }
   ],
   "source": [
    "top20 = work_df.groupby('summary')['duration'].sum().sort_values(ascending=False)//60\n",
    "top20[:20]"
   ]
  },
  {
   "cell_type": "code",
   "execution_count": 17,
   "id": "10794b07",
   "metadata": {},
   "outputs": [
    {
     "data": {
      "text/plain": [
       "['AI Papers',\n",
       " 'AI Podcast',\n",
       " 'Architecture Book Reading',\n",
       " 'Architecture Floor Plan Generation',\n",
       " 'Artificial Intelligence: State of the Art - Lex Fridman',\n",
       " 'BHCC Course Registration',\n",
       " 'Blog Writing',\n",
       " 'Bootcamp Assesment',\n",
       " 'CS: Data Structures and Algorithms',\n",
       " 'Calendar Management',\n",
       " 'Call: Angel',\n",
       " 'Call: Arnav Dasaur',\n",
       " 'Call: Mike Mooney',\n",
       " 'Call: Robert Aung',\n",
       " 'Call: Rosa (SBA Mentor)',\n",
       " 'Call: Scott',\n",
       " 'Cleaning',\n",
       " 'Clubhouse with Brendan',\n",
       " 'Coding Practice',\n",
       " 'Cofounder Matching',\n",
       " 'Computational Portfolio',\n",
       " 'Computer Setup',\n",
       " 'Coures: Linear Algebra',\n",
       " 'Course: C++',\n",
       " 'Course: CSE599',\n",
       " 'Course: Data Structures',\n",
       " 'Course: Discrete Math',\n",
       " 'Course: EECS589',\n",
       " 'Course: EECS598',\n",
       " 'Course: EECS598_HW',\n",
       " 'Course: Graphics',\n",
       " 'Course: Math for ML',\n",
       " 'Course: Reinforcement Learning',\n",
       " 'Course: UCSD Prep',\n",
       " 'Course: Unreal Engine',\n",
       " 'Course: Unreal Engine 5',\n",
       " 'Coursera: Andrew Ng',\n",
       " 'Coursera: Deep Learning',\n",
       " 'Daily Journal Updates',\n",
       " 'Data compliance updates in the USA and Europe',\n",
       " 'Discrete Math',\n",
       " 'Draw',\n",
       " 'Drawing',\n",
       " 'E-Commerce: Inventory',\n",
       " 'EDA Work',\n",
       " 'Edge',\n",
       " 'Email Mark',\n",
       " 'Email draft: Matias del Campo',\n",
       " 'Email: Gabriel',\n",
       " 'Email: Mark',\n",
       " 'Email: Mark Farlow',\n",
       " 'Emails',\n",
       " 'Emails to Employers',\n",
       " 'Emails: Matias and Gabriel',\n",
       " 'Feature Engineering: What It Is & How to Leverage It in Your Data Science Career',\n",
       " 'Finances',\n",
       " 'Freelance: Jugnu Chacha House',\n",
       " 'Fscore: File Organization',\n",
       " 'Fscore: Marketing',\n",
       " 'Fscore: Product',\n",
       " 'Future Planning',\n",
       " 'GRE Prep',\n",
       " 'Grad Applications',\n",
       " 'Grad Apps',\n",
       " 'Grad School Apps',\n",
       " 'Grad School Research',\n",
       " 'Help Kierra with ML',\n",
       " 'India Shipment',\n",
       " 'India Stuff',\n",
       " 'Indian Stuff',\n",
       " 'Interview: Aerotek',\n",
       " 'Interview: Terrado Architects',\n",
       " 'Interview: Torrado Architects',\n",
       " 'Interview: Walker',\n",
       " 'Interview: Walker Consultants',\n",
       " 'Invitation: Arvinder/Sophia Chahal: MEC Career Coaching call @ Wed Sep 14, 2022 6pm - 6:30pm (EDT) (singh@arvinder.me)',\n",
       " \"Job Application'sApplications\",\n",
       " 'Job Applications',\n",
       " 'Job Interview: CBT',\n",
       " 'Job Search',\n",
       " 'Kierra ML HW',\n",
       " 'Leetcode',\n",
       " 'Life Organizer - New System',\n",
       " 'Life Organizing',\n",
       " 'Life Planning',\n",
       " 'ML',\n",
       " 'ML Project',\n",
       " 'ML Project ',\n",
       " 'ML Research',\n",
       " 'ML Research: Matias del Campo Video',\n",
       " 'ML Tutorial',\n",
       " 'ML Tutorials',\n",
       " 'ML papers',\n",
       " 'ML tutorial',\n",
       " 'ML:  GANs',\n",
       " 'ML: Algorithms and Data Structures',\n",
       " 'ML: Architectural Dataset',\n",
       " 'ML: Architecture Dataset',\n",
       " 'ML: Climate Change',\n",
       " 'ML: Exercise (Migrate to Paperspace for PyTorch)',\n",
       " 'ML: Exercise (Pix2Pix) GANs',\n",
       " 'ML: GANs',\n",
       " 'ML: Grasshopper w/ Python',\n",
       " 'ML: Information Theory',\n",
       " 'ML: Linear Algebra',\n",
       " 'ML: Math Concepts',\n",
       " 'ML: Practice',\n",
       " 'ML: RNNs',\n",
       " 'ML: Resources Research',\n",
       " 'ML: Setup',\n",
       " 'ML: Theory on Pix2Pix',\n",
       " 'ML: Tutorial',\n",
       " 'ML: Tutorial GANs',\n",
       " 'ML: Tutorial Udemy',\n",
       " 'MSAIL',\n",
       " 'MSAIL Art',\n",
       " 'MSAIL: Art',\n",
       " 'Measuring',\n",
       " 'Meeting: Alexander Ivkin',\n",
       " 'Meeting: Arnav',\n",
       " 'Meeting: Career Coach',\n",
       " 'Meeting: Matias del Campo',\n",
       " 'Meeting: Natalia + Aylin',\n",
       " 'Meeting: Nikhil',\n",
       " 'Meeting: Raekwon',\n",
       " 'Meeting: Romil Sheth',\n",
       " 'Meeting: Rosa Taormina',\n",
       " 'Meeting: SCORE Mentor',\n",
       " 'Meeting: Virat Jaipur',\n",
       " 'Misc. Chores',\n",
       " 'Misc. Things to Do',\n",
       " 'NorthEastern Campus Tour',\n",
       " 'Organization: Computer',\n",
       " 'Organizing Schedule',\n",
       " 'Organizing: File Management',\n",
       " 'Organizing: Life Planning',\n",
       " 'Organizing: Planning',\n",
       " 'Organizing: Project Planning',\n",
       " 'Pickup Cargo',\n",
       " 'Planning: Life Planning',\n",
       " 'Portfolio',\n",
       " 'Portfolio ',\n",
       " 'Printer head cleaning ',\n",
       " 'Printer set up',\n",
       " 'Professional Networking Plan',\n",
       " 'Project Planning',\n",
       " 'Project: 3D Graphics',\n",
       " 'Project: Data Labeling Research',\n",
       " 'Project: East Tawas Planning',\n",
       " 'Project: Floor Plan Generator',\n",
       " 'Project: ML',\n",
       " 'Project: ML Readings',\n",
       " 'Project: Wooden Artifacts',\n",
       " 'Python: Practice',\n",
       " 'Q1 2021 Goals',\n",
       " 'QnA with Lex Fridman',\n",
       " 'Read: AI',\n",
       " 'Read: Data Science',\n",
       " 'Read: Data Science MIT',\n",
       " 'Read: Intro to AI',\n",
       " 'Read: Intro to AI ',\n",
       " 'Read: Raspberry Pi ',\n",
       " 'Read: Research Paper',\n",
       " \"Read: So Good They Can't Ignore You\",\n",
       " 'Research Papers',\n",
       " 'Research ayurvedic products',\n",
       " 'Research: AI + Architecture',\n",
       " 'Research: CBT Architects',\n",
       " 'Research: CS Programs',\n",
       " 'Savvy Crafts',\n",
       " 'Savvy Crafts Shipment',\n",
       " 'Score Startup Roadmap',\n",
       " 'Scott Meeting',\n",
       " 'Scott Project',\n",
       " 'Sell Indian Artifacts',\n",
       " 'Shopify',\n",
       " 'Startup',\n",
       " 'Startup Ideas (AI papers)',\n",
       " 'Startup Thinking',\n",
       " 'Startup Week (Look into attending an event)',\n",
       " 'Startup:',\n",
       " 'Startup: ',\n",
       " 'Startup: Admin',\n",
       " 'Startup: Business Plan',\n",
       " 'Startup: Employee Interview',\n",
       " 'Startup: File Organizing',\n",
       " 'Startup: Goals and Updates',\n",
       " 'Startup: Hiring',\n",
       " 'Startup: Legal',\n",
       " 'Startup: LinkedIn Messages',\n",
       " 'Startup: Logo',\n",
       " 'Startup: Marketing',\n",
       " 'Startup: NAS Purchase',\n",
       " 'Startup: Networking',\n",
       " 'Startup: Networking Email',\n",
       " 'Startup: Operations',\n",
       " 'Startup: Planning',\n",
       " 'Startup: Project Management',\n",
       " 'Startup: Registration',\n",
       " 'Startup: Research',\n",
       " 'Startup: RnD',\n",
       " 'Startup: Roadmap',\n",
       " 'Startup: Scrum Planning',\n",
       " 'Startup: Startup Week Webinars',\n",
       " 'Startup: Task List',\n",
       " 'Startup: Things to Do',\n",
       " 'Startup: Todo',\n",
       " 'Startup: Website',\n",
       " 'Startup: Workflow',\n",
       " 'Studio conversation - Mon., May 3',\n",
       " 'Talk: AI + Architecture',\n",
       " 'Things to Do',\n",
       " 'Things to do',\n",
       " 'To do',\n",
       " 'Todo',\n",
       " 'Trello Set up',\n",
       " 'Trello Setup',\n",
       " 'Tutorial: Grasshopper',\n",
       " 'UCSD: ',\n",
       " 'UCSD: Advisor Meeting',\n",
       " 'UCSD: Assignments',\n",
       " 'UCSD: Capstone',\n",
       " 'UCSD: Career Coach',\n",
       " 'UCSD: File Organizing',\n",
       " 'UCSD: Mentor',\n",
       " 'UCSD: Mentor Call',\n",
       " 'UCSD: Mini Projects',\n",
       " 'UCSD: Notes',\n",
       " 'UCSD: Notes Organizing',\n",
       " 'UCSD: Planning',\n",
       " 'UCSD: Prep',\n",
       " 'UCSD: Prepwork',\n",
       " 'UCSD: Review',\n",
       " 'UCSD: Skills Assessment',\n",
       " 'UCSD: Unit ',\n",
       " 'UCSD: Unit 10',\n",
       " 'UCSD: Unit 11',\n",
       " 'UCSD: Unit 2',\n",
       " 'UCSD: Unit 3',\n",
       " 'UCSD: Unit 4',\n",
       " 'UCSD: Unit 5',\n",
       " 'UCSD: Unit 6',\n",
       " 'UCSD: Unit 8',\n",
       " 'Udemy: React Expo',\n",
       " 'Unreal Engine',\n",
       " 'Weekly Goals Review',\n",
       " 'Work',\n",
       " 'Work: Walker Consultants',\n",
       " 'Writing: Project Framework',\n",
       " 'co.de.D Innovator Spotlight: Computational Design']"
      ]
     },
     "execution_count": 17,
     "metadata": {},
     "output_type": "execute_result"
    }
   ],
   "source": [
    "sorted(pd.unique(work_df['summary']))"
   ]
  },
  {
   "cell_type": "code",
   "execution_count": 18,
   "id": "f60f619f",
   "metadata": {},
   "outputs": [
    {
     "data": {
      "text/plain": [
       "[]"
      ]
     },
     "execution_count": 18,
     "metadata": {},
     "output_type": "execute_result"
    }
   ],
   "source": [
    "jobList = [\n",
    "    'work', 'walker', 'job', 'portfolio',\n",
    "    'interview', 'edge'\n",
    "]\n",
    "educationList = [\n",
    "    'UCSD', 'ML', 'Tutorial', 'Math', \n",
    "    'EECS', 'UMICH', 'Course', 'Artificial', \n",
    "    'AI P', 'Architecture', 'CS', 'coding',\n",
    "    'grad', 'appl', 'read', 'python',\n",
    "    'msail', 'leet', 'algebra', 'gre',\n",
    "    'boot', 'unreal', 'udemy', 'research',\n",
    "    'NorthEastern Campus Tour',  'Studio conversation - Mon., May 3',\n",
    "    'co.de.D Innovator Spotlight: Computational Design', 'Scott Project',\n",
    "]\n",
    "startupList = [\n",
    "    'startup', 'fscore', 'business', 'call',\n",
    "    'cofounder', 'freelanc', 'data', 'india',\n",
    "    'savvy', 'e-com', 'project', 'Shopify',\n",
    "     'Project: Wooden Artifacts', 'Pickup Cargo',     \n",
    "]\n",
    "organizingList = [\n",
    "    'blog', 'cleaning', 'drawing', 'email',\n",
    "    'finances', 'plan', 'future', 'life','organ',\n",
    "    'meeting', 'setup', 'misc', 'chores',\n",
    "    'draw', 'management', 'journal', 'goal', 'set up',\n",
    "    'todo', 'to do', 'things to do', 'Clubhouse with Brendan',\n",
    "     'Measuring', 'QnA with Lex Fridman',\n",
    "]\n",
    "\n",
    "work_df.loc[work_df['summary'].str.contains('|'.join(jobList), case=False),'project_name'] = 'Job'\n",
    "work_df.loc[work_df['summary'].str.contains('|'.join(educationList), case=False),'project_name'] = 'Education'\n",
    "work_df.loc[work_df['summary'].str.contains('|'.join(startupList), case=False),'project_name'] = 'Startup'\n",
    "work_df.loc[work_df['summary'].str.contains('|'.join(organizingList), case=False),'project_name'] = 'Organizing'\n",
    "\n",
    "sorted(pd.unique(work_df[work_df['project_name'] == '']['summary']))"
   ]
  },
  {
   "cell_type": "code",
   "execution_count": 19,
   "id": "741bb084",
   "metadata": {
    "scrolled": true
   },
   "outputs": [
    {
     "data": {
      "text/plain": [
       "project_name\n",
       "Job           2981.0\n",
       "Education      583.0\n",
       "Startup        321.0\n",
       "Organizing     196.0\n",
       "Name: duration, dtype: float64"
      ]
     },
     "execution_count": 19,
     "metadata": {},
     "output_type": "execute_result"
    }
   ],
   "source": [
    "(work_df.groupby('project_name')['duration'].sum()//60).sort_values(ascending=False)"
   ]
  },
  {
   "cell_type": "code",
   "execution_count": 24,
   "id": "66a52639",
   "metadata": {},
   "outputs": [],
   "source": [
    "date_range = pd.date_range(start='2020-11-01', end='2022-11-24', freq='D')\n",
    "totalworkdf = work_df\n",
    "jobdf = work_df[work_df['project_name']=='Job']\n",
    "educationdf = work_df[work_df['project_name']=='Education']\n",
    "startupdf = work_df[work_df['project_name']=='Startup']\n",
    "organizingdf = work_df[work_df['project_name']=='Organizing']\n",
    "def duration_rolling_avg(dframe):\n",
    "    dframe = (dframe.groupby('date')['duration'].sum()).sort_index()\n",
    "    dframe = dframe / 60\n",
    "    dframe = dframe.reindex(date_range, fill_value=0)\n",
    "    dframe= dframe.rolling(365).mean()\n",
    "    dframe.dropna(inplace=True)\n",
    "    \n",
    "#     dframe = dframe[-180:]\n",
    "    return dframe\n",
    "\n",
    "totalworkdf = duration_rolling_avg(totalworkdf)\n",
    "jobdf = duration_rolling_avg(jobdf)\n",
    "educationdf = duration_rolling_avg(educationdf)\n",
    "startupdf = duration_rolling_avg(startupdf)\n",
    "organizingdf = duration_rolling_avg(organizingdf)"
   ]
  },
  {
   "cell_type": "code",
   "execution_count": 25,
   "id": "fc4528ae",
   "metadata": {},
   "outputs": [
    {
     "data": {
      "image/png": "[encoded data removed]",
      "text/plain": [
       "<Figure size 1280x640 with 1 Axes>"
      ]
     },
     "metadata": {},
     "output_type": "display_data"
    }
   ],
   "source": [
    "plt.figure(figsize=(16,8), dpi=80)\n",
    "plt.grid(True, 'both')\n",
    "\n",
    "plt.plot(totalworkdf, label='Total', color='black')\n",
    "# plt.plot(jobdf, label='Work', color='red')\n",
    "plt.plot(educationdf, label='Education', color='green')\n",
    "plt.plot(startupdf, label='Startup', color='blue')\n",
    "plt.plot(organizingdf, label='Organizing', color='red')\n",
    "\n",
    "plt.legend(title='Category')\n",
    "plt.ylabel('Duration (Hours)')\n",
    "plt.xlabel('Dates')\n",
    "\n",
    "plt.show()"
   ]
  },
  {
   "cell_type": "code",
   "execution_count": null,
   "id": "54a3b869",
   "metadata": {},
   "outputs": [],
   "source": []
  },
  {
   "cell_type": "code",
   "execution_count": null,
   "id": "4d70e341",
   "metadata": {},
   "outputs": [],
   "source": []
  }
 ],
 "metadata": {
  "kernelspec": {
   "display_name": "Python 3 (ipykernel)",
   "language": "python",
   "name": "python3"
  },
  "language_info": {
   "codemirror_mode": {
    "name": "ipython",
    "version": 3
   },
   "file_extension": ".py",
   "mimetype": "text/x-python",
   "name": "python",
   "nbconvert_exporter": "python",
   "pygments_lexer": "ipython3",
   "version": "3.10.4"
  }
 },
 "nbformat": 4,
 "nbformat_minor": 5
}
