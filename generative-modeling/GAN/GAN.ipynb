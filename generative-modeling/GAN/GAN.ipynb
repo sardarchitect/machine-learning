{
 "cells": [
  {
   "cell_type": "markdown",
   "metadata": {},
   "source": [
    "## IMPORTS"
   ]
  },
  {
   "cell_type": "code",
   "execution_count": null,
   "metadata": {},
   "outputs": [],
   "source": [
    "import torch\n",
    "import torch.nn as nn\n",
    "import torchvision\n",
    "import numpy as np\n",
    "import matplotlib.pyplot as plt\n",
    "import os\n",
    "import time"
   ]
  },
  {
   "cell_type": "markdown",
   "metadata": {},
   "source": [
    "## DEVICE"
   ]
  },
  {
   "cell_type": "code",
   "execution_count": null,
   "metadata": {},
   "outputs": [],
   "source": [
    "if torch.cuda.is_available():\n",
    "    device = torch.device('cuda')\n",
    "else:\n",
    "    device = torch.device('cpu')\n",
    "\n",
    "device"
   ]
  },
  {
   "cell_type": "markdown",
   "metadata": {},
   "source": [
    "## GLOBAL HYPERPARAMS"
   ]
  },
  {
   "cell_type": "code",
   "execution_count": null,
   "metadata": {},
   "outputs": [],
   "source": [
    "#CUSTOM TRANSFORM\n",
    "class FlattenTransform:\n",
    "    def __call__(self, inputs):\n",
    "        return inputs.view(inputs.shape[0], -1)"
   ]
  },
  {
   "cell_type": "code",
   "execution_count": null,
   "metadata": {},
   "outputs": [],
   "source": [
    "batch_size = 96\n",
    "nz = 128 \n",
    "\n",
    "transforms = torchvision.transforms.Compose([\n",
    "    torchvision.transforms.Grayscale(num_output_channels=1),\n",
    "    torchvision.transforms.ToTensor(),\n",
    "#   torchvision.transforms.Normalize((0.5,),(0.5,))\n",
    "])\n",
    "\n",
    "lr = 0.0002\n",
    "momentum = 0.5\n",
    "dampening = 0\n",
    "\n",
    "epochs = 200\n",
    "k=1"
   ]
  },
  {
   "cell_type": "markdown",
   "metadata": {},
   "source": [
    "## DATASET"
   ]
  },
  {
   "cell_type": "code",
   "execution_count": null,
   "metadata": {},
   "outputs": [],
   "source": [
    "path = '../storage/data/mnist_png/training/'\n",
    "\n",
    "ds = torchvision.datasets.ImageFolder(path, transforms)\n",
    "dl = torch.utils.data.DataLoader(ds, batch_size, shuffle=True, num_workers=4)"
   ]
  },
  {
   "cell_type": "code",
   "execution_count": null,
   "metadata": {},
   "outputs": [],
   "source": [
    "for xb, yb in dl:\n",
    "    print('xb: {}, \\nyb: {}'.format(xb.shape, yb.shape))\n",
    "    grid = torchvision.utils.make_grid(xb[:16], nrow=8)\n",
    "    plt.imshow(grid.permute(1,2,0))\n",
    "    break"
   ]
  },
  {
   "cell_type": "markdown",
   "metadata": {},
   "source": [
    "## DEFINE MODELS"
   ]
  },
  {
   "cell_type": "markdown",
   "metadata": {},
   "source": [
    "### MODEL VARIATIONS\n",
    "\n",
    "#### GENERATOR\n",
    "1. VANILLA I\n",
    "    - fc1: Linear(nz,256) LeakyReLU(0.2)\n",
    "    - fc2: Linear(256,512) LeakyReLU(0.2)\n",
    "    - fc3: Linear(512,1024) LeakyReLU(0.2)\n",
    "    - fc4: Linear(1024,784) Tanh()\n",
    "    \n",
    "\n",
    "#### DISCRIMINATOR\n",
    "1. VANILLA I\n",
    "    - fc1: Linear(784,1024) LeakyReLU(0.2) Dropout(0.3)\n",
    "    - fc2: Linear(1024,512) LeakyReLU(0.2) Dropout(0.3)\n",
    "    - fc3: Linear(512,256) LeakyReLU(0.2) Dropout(0.3)\n",
    "    - fc4: Linear(256,1) Sigmoid()"
   ]
  },
  {
   "cell_type": "code",
   "execution_count": null,
   "metadata": {},
   "outputs": [],
   "source": [
    "#CUSTOM ACTIVATION LAYER\n",
    "\n",
    "class Maxout(torch.nn.Module):\n",
    "    def __init__(self, num_pieces):\n",
    "        super(Maxout, self).__init__()\n",
    "        self.num_pieces = num_pieces\n",
    "\n",
    "    def forward(self, x):\n",
    "        # x.shape = (batch_size x 625)\n",
    "        assert x.shape[1] % self.num_pieces == 0  # 625 % 5 = 0\n",
    "\n",
    "        ret = x.view(\n",
    "            *x.shape[:1],  # batch_size\n",
    "            x.shape[1] // self.num_pieces,  # piece-wise linear\n",
    "            self.num_pieces,  # num_pieces\n",
    "            *x.shape[2:]  # remaining dimensions if any\n",
    "        )        \n",
    "        # ret.shape = (batch_size x 125 x 5)\n",
    "        # https://pytorch.org/docs/stable/torch.html#torch.max        \n",
    "        ret, _ = ret.max(dim=2)\n",
    "        # ret.shape = (batch_size? x 125)\n",
    "        return ret"
   ]
  },
  {
   "cell_type": "code",
   "execution_count": null,
   "metadata": {},
   "outputs": [],
   "source": [
    "class Generator(nn.Module):\n",
    "    def __init__(self):\n",
    "        super(Generator, self).__init__()\n",
    "        \n",
    "        self.fc1 = nn.Sequential(\n",
    "            nn.Linear(nz, 256),\n",
    "            nn.LeakyReLU(0.2))\n",
    "        self.fc2 = nn.Sequential(\n",
    "            nn.Linear(256, 512),\n",
    "            nn.LeakyReLU(0.2))\n",
    "        self.fc3 = nn.Sequential(\n",
    "            nn.Linear(512, 1024),\n",
    "            nn.LeakyReLU(0.2))\n",
    "        self.fc4 = nn.Sequential(\n",
    "            nn.Linear(1024, 784),\n",
    "            nn.Tanh())\n",
    "        \n",
    "    def forward(self, x):\n",
    "        #takes in a tensor size (batch_size x nz)\n",
    "        x = self.fc1(x)\n",
    "        x = self.fc2(x)\n",
    "        x = self.fc3(x)\n",
    "        x = self.fc4(x)\n",
    "        x = x.view(x.size(0), -1)\n",
    "        return x"
   ]
  },
  {
   "cell_type": "code",
   "execution_count": null,
   "metadata": {},
   "outputs": [],
   "source": [
    "class Discriminator(nn.Module):\n",
    "    def __init__(self):\n",
    "        super(Discriminator, self).__init__()\n",
    "        \n",
    "        self.fc1 = nn.Sequential(\n",
    "            nn.Linear(784, 1024),\n",
    "            nn.LeakyReLU(0.2),\n",
    "            nn.Dropout(0.3))\n",
    "        self.fc2 = nn.Sequential(\n",
    "            nn.Linear(1024, 512),\n",
    "            nn.LeakyReLU(0.2),\n",
    "            nn.Dropout(0.3))\n",
    "        self.fc3 = nn.Sequential(\n",
    "            nn.Linear(512, 256),\n",
    "            nn.LeakyReLU(0.2),\n",
    "            nn.Dropout(0.3))\n",
    "        self.fc4 = nn.Sequential(\n",
    "            nn.Linear(256, 1),\n",
    "            nn.Sigmoid())\n",
    "        \n",
    "    def forward(self, x):\n",
    "        #takes in a tensor size (batch_size x nc x 28 x 28)\n",
    "        x = x.view(x.size(0), -1)\n",
    "        x = self.fc1(x)\n",
    "        x = self.fc2(x)\n",
    "        x = self.fc3(x)\n",
    "        x = self.fc4(x)\n",
    "        return x"
   ]
  },
  {
   "cell_type": "code",
   "execution_count": null,
   "metadata": {},
   "outputs": [],
   "source": [
    "generator = Generator().to(device)\n",
    "discriminator = Discriminator().to(device)"
   ]
  },
  {
   "cell_type": "markdown",
   "metadata": {},
   "source": [
    "## DEFINE OPTIMIZERS"
   ]
  },
  {
   "cell_type": "code",
   "execution_count": null,
   "metadata": {},
   "outputs": [],
   "source": [
    "opt_d = torch.optim.Adam(discriminator.parameters(), lr)\n",
    "opt_g = torch.optim.Adam(generator.parameters(), lr)"
   ]
  },
  {
   "cell_type": "code",
   "execution_count": null,
   "metadata": {},
   "outputs": [],
   "source": [
    "#CUSTOM OPTIMIZER SCHEDULER\n",
    "\n",
    "'''\n",
    "discriminator_scheduler = torch.optim.lr_scheduler.StepLR(\n",
    "    optimizer=discriminator_optimizer,\n",
    "    step_size=1,\n",
    "    gamma=0.99,\n",
    "    last_epoch=-1\n",
    ")\n",
    "\n",
    "generator_scheduler = torch.optim.lr_scheduler.StepLR(\n",
    "    optimizer=generator_optimizer,\n",
    "    step_size=1,\n",
    "    gamma=0.99,\n",
    "    last_epoch=-1\n",
    ")\n",
    "'''\n",
    "\n",
    "#CUSTOM LAMBDA DECAY LR\n",
    "\n",
    "'''\n",
    "class DecayLR:\n",
    "    \n",
    "    def __init__(self, _lr, _step_size):\n",
    "        \n",
    "        self.lr = _lr\n",
    "        self.step_size = _step_size\n",
    "    \n",
    "    def __call__(self, _epoch):\n",
    "\n",
    "        if _epoch % self.step_size == 0:\n",
    "            self.lr = self.lr * 0.1\n",
    "        \n",
    "        return self.lr\n",
    "\n",
    "\n",
    "discriminator_scheduler = torch.optim.lr_scheduler.LambdaLR(\n",
    "    discriminator_optimizer,\n",
    "    DecayLR(\n",
    "        _lr=0.9,\n",
    "        _step_size=100\n",
    "    )\n",
    ")\n",
    "\n",
    "generator_scheduler = torch.optim.lr_scheduler.LambdaLR(\n",
    "    generator_optimizer,\n",
    "    DecayLR(\n",
    "        _lr=0.9,\n",
    "        _step_size=100\n",
    "    )\n",
    ")\n",
    "'''"
   ]
  },
  {
   "cell_type": "markdown",
   "metadata": {},
   "source": [
    "## DEFINE LOSS"
   ]
  },
  {
   "cell_type": "code",
   "execution_count": null,
   "metadata": {},
   "outputs": [],
   "source": [
    "criterion = nn.BCELoss()"
   ]
  },
  {
   "cell_type": "markdown",
   "metadata": {},
   "source": [
    "## PRE-TRAIN TESTS"
   ]
  },
  {
   "cell_type": "code",
   "execution_count": null,
   "metadata": {
    "scrolled": false
   },
   "outputs": [],
   "source": [
    "#SAMPLE BATCH TEST\n",
    "for images, _ in dl:\n",
    "    images = images.to(device)\n",
    "    \n",
    "    sample = torch.randn(32, nz).to(device)\n",
    "    print(\"RANDOM SAMPLE TENSOR: \", sample.shape)\n",
    "    \n",
    "    sample = generator(sample.detach())\n",
    "    print(\"GENERATED IMAGES:\", sample.shape)\n",
    "    \n",
    "    d_g_z = discriminator(sample.detach())\n",
    "    print(\"DISCRIMINATOR OUTPUTS:\", d_g_z.shape)\n",
    "     \n",
    "    grid = torchvision.utils.make_grid(sample.view(-1, 1, 28, 28), nrow=8, pad_value=1, normalize=False)\n",
    "    plt.imshow(grid.detach().cpu().permute(1,2,0))\n",
    "    break"
   ]
  },
  {
   "cell_type": "markdown",
   "metadata": {},
   "source": [
    "## DEFINE VISUALIZING FOLDER"
   ]
  },
  {
   "cell_type": "code",
   "execution_count": null,
   "metadata": {},
   "outputs": [],
   "source": [
    "if not os.path.exists('visuals'):\n",
    "    os.mkdir('visuals')"
   ]
  },
  {
   "cell_type": "markdown",
   "metadata": {},
   "source": [
    "## TRAIN"
   ]
  },
  {
   "cell_type": "code",
   "execution_count": null,
   "metadata": {
    "scrolled": true
   },
   "outputs": [],
   "source": [
    "fixed_noise = torch.randn(32, nz).to(device)\n",
    "real_labels = torch.ones(batch_size, 1).to(device)\n",
    "fake_labels = torch.zeros(batch_size, 1).to(device)\n",
    "print(real_labels.shape, fake_labels.shape)"
   ]
  },
  {
   "cell_type": "code",
   "execution_count": null,
   "metadata": {
    "scrolled": true
   },
   "outputs": [],
   "source": [
    "start_time = time.time()\n",
    "\n",
    "losses_g = []\n",
    "losses_d = []\n",
    "\n",
    "generator.train()\n",
    "discriminator.train()\n",
    "\n",
    "for e in range(epochs):\n",
    "    _loss_g = 0.0\n",
    "    _loss_d = 0.0\n",
    "    for i, (images, _) in enumerate(dl):\n",
    "        #DISCRIMINATOR\n",
    "        for _ in range(k):\n",
    "            opt_d.zero_grad()\n",
    "            \n",
    "            real_images = images.to(device) \n",
    "            fake_images = generator(torch.randn(batch_size, nz).to(device)).detach()\n",
    "            \n",
    "            real_outputs = discriminator(real_images)\n",
    "            fake_outputs = discriminator(fake_images)\n",
    "            \n",
    "            real_loss = criterion(real_outputs, real_labels)\n",
    "            fake_loss = criterion(fake_outputs, fake_labels)\n",
    "            \n",
    "            real_loss.backward()\n",
    "            fake_loss.backward()\n",
    "            opt_d.step()\n",
    "            \n",
    "            _loss_d += real_loss + fake_loss\n",
    "            \n",
    "        #GENERATOR\n",
    "        opt_g.zero_grad()\n",
    "        \n",
    "        generated_images = generator(torch.randn(batch_size, nz).to(device))\n",
    "        outputs = discriminator(generated_images)\n",
    "        loss = criterion(outputs, real_labels)\n",
    "        \n",
    "        loss.backward()\n",
    "        opt_g.step()\n",
    "        \n",
    "        _loss_g += loss\n",
    "        \n",
    "    e_loss_g = _loss_g/i\n",
    "    e_loss_d = _loss_d/i\n",
    "    losses_g.append(e_loss_g)\n",
    "    losses_d.append(e_loss_d)\n",
    "    print(f\"Epoch {e} of {epochs}\")\n",
    "    print(f\"Generator loss: {e_loss_g:.8f}, Discriminator loss: {e_loss_d:.8f}\")\n",
    "    print(f'Duration: {time.time() - start_time:.0f} seconds') # print the time elapsed   \n",
    "    \n",
    "    if e%10==0:\n",
    "        sample = generator(fixed_noise.detach())\n",
    "        grid = torchvision.utils.make_grid(sample.view(-1, 1, 28, 28), nrow=8, pad_value=1, normalize=False)   \n",
    "        torchvision.utils.save_image(grid.detach().cpu(), os.path.join('visuals', 'MNIST_VANILLA_GAN_{}.jpg'.format(e)))\n",
    "\n",
    "\n",
    "print(f'\\nTOTAL DURATION: {time.time() - start_time:.0f} seconds') # print the time elapsed            "
   ]
  },
  {
   "cell_type": "markdown",
   "metadata": {},
   "source": [
    "## EVALUATIONS"
   ]
  },
  {
   "cell_type": "code",
   "execution_count": null,
   "metadata": {},
   "outputs": [],
   "source": [
    "#LOSS PLOT\n",
    "plt.figure()\n",
    "plt.plot(losses_g, label=\"LOSS G\")\n",
    "plt.plot(losses_d, label=\"LOSS D\")\n",
    "plt.legend()\n",
    "plt.show()"
   ]
  },
  {
   "cell_type": "code",
   "execution_count": null,
   "metadata": {},
   "outputs": [],
   "source": [
    "fig = plt.figure(figsize=(16, 10))\n",
    "plt.plot(d_lr_ls, label='D LR')\n",
    "plt.plot(g_lr_ls, label='G LR')\n",
    "plt.legend()\n",
    "plt.show();"
   ]
  },
  {
   "cell_type": "code",
   "execution_count": null,
   "metadata": {},
   "outputs": [],
   "source": [
    "# # LOAD MODEL\n",
    "# discriminator.load_state_dict(torch.load('./mnist_vanilla_gan_discriminator.pt'))\n",
    "# generator.load_state_dict(torch.load('./mnist_vanilla_gan_generator.pt'))"
   ]
  },
  {
   "cell_type": "code",
   "execution_count": null,
   "metadata": {},
   "outputs": [],
   "source": [
    "\n",
    "#IMAGES FROM LAST EPOCH\n",
    "sample = generator(torch.randn(32, nz).to(device))\n",
    "grid = torchvision.utils.make_grid(sample.view(-1, 1, 28, 28), nrow=8, pad_value=1, normalize=False)   \n",
    "plt.imshow(grid.detach().cpu().permute(1,2,0))"
   ]
  },
  {
   "cell_type": "markdown",
   "metadata": {},
   "source": [
    "## SAVING"
   ]
  },
  {
   "cell_type": "code",
   "execution_count": null,
   "metadata": {},
   "outputs": [],
   "source": [
    "torch.save(generator.state_dict(), './mnist_vanilla_gan_advanced_generator.pt')\n",
    "torch.save(discriminator.state_dict(), './mnist_vanilla_gan_advanced_discriminator.pt')"
   ]
  },
  {
   "cell_type": "code",
   "execution_count": null,
   "metadata": {},
   "outputs": [],
   "source": []
  }
 ],
 "metadata": {
  "kernelspec": {
   "display_name": "Python 3",
   "language": "python",
   "name": "python3"
  },
  "language_info": {
   "codemirror_mode": {
    "name": "ipython",
    "version": 3
   },
   "file_extension": ".py",
   "mimetype": "text/x-python",
   "name": "python",
   "nbconvert_exporter": "python",
   "pygments_lexer": "ipython3",
   "version": "3.8.5"
  }
 },
 "nbformat": 4,
 "nbformat_minor": 4
}
