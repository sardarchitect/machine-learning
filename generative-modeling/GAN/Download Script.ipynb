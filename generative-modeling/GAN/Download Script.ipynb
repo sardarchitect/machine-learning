{
 "cells": [
  {
   "cell_type": "code",
   "execution_count": 3,
   "metadata": {},
   "outputs": [
    {
     "name": "stdout",
     "output_type": "stream",
     "text": [
      "/storage/archived_models\n"
     ]
    }
   ],
   "source": [
    "%cd archived_models/"
   ]
  },
  {
   "cell_type": "code",
   "execution_count": 4,
   "metadata": {},
   "outputs": [
    {
     "name": "stdout",
     "output_type": "stream",
     "text": [
      "20201230_Vanilla GAN Advanced MNIST.ipynb\n",
      "20210103_Vanilla GAN_FashionMNIST.ipynb\n",
      "20210103_Vanilla GAN_MNIST.ipynb\n",
      "20210103_cGAN_MNIST.ipynb\n",
      "20210104_DCGAN_CATS-DOGS.ipynb\n",
      "20210104_cGAN_FashionMNIST.ipynb\n",
      "20210105_Neural 2D Style Transfer.ipynb\n",
      "20210106_Neural 2D Style Transfer.ipynb\n",
      "20210108_Pix2Pix.ipynb\n",
      "20210113_Pix2Pix.ipynb\n",
      "20210115_PGGAN_CelebA_Dogs.ipynb\n",
      "20210118_CycleGAN.ipynb\n",
      "20210119_CycleGAN.ipynb\n",
      "20210121_DCGAN_DOGS.ipynb\n",
      "20210124_StyleGAN.ipynb\n",
      "20210126_MNIST_VANILLA_GAN_Test_1.png\n",
      "20210126_MNIST_WGAN_D.pt\n",
      "20210126_MNIST_WGAN_G.pt\n",
      "20210126_MNIST_WGAN_GP_D.pt\n",
      "20210126_MNIST_WGAN_GP_G.pt\n",
      "20210126_MNIST_WGAN_GP_Test_1.png\n",
      "20210126_MNIST_WGAN_Test_1.png\n",
      "20210126_VanillaGAN_MNIST.html\n",
      "20210126_VanillaGAN_MNIST.ipynb\n",
      "20210126_WGAN_GP_MNIST.html\n",
      "20210126_WGAN_GP_MNIST.ipynb\n",
      "20210126_WGAN_MNIST.html\n",
      "20210126_WGAN_MNIST.ipynb\n",
      "20210127_RNN_Basics.html\n",
      "20210127_RNN_Basics.ipynb\n",
      "20210127_RNN_RealData.html\n",
      "20210127_RNN_RealData.ipynb\n",
      "Alcohol_Sales.csv\n",
      "Download Script.ipynb\n"
     ]
    }
   ],
   "source": [
    "!tar chvfz images.tar.gz *"
   ]
  },
  {
   "cell_type": "code",
   "execution_count": null,
   "metadata": {},
   "outputs": [],
   "source": []
  }
 ],
 "metadata": {
  "kernelspec": {
   "display_name": "Python 3",
   "language": "python",
   "name": "python3"
  },
  "language_info": {
   "codemirror_mode": {
    "name": "ipython",
    "version": 3
   },
   "file_extension": ".py",
   "mimetype": "text/x-python",
   "name": "python",
   "nbconvert_exporter": "python",
   "pygments_lexer": "ipython3",
   "version": "3.6.8"
  }
 },
 "nbformat": 4,
 "nbformat_minor": 4
}
