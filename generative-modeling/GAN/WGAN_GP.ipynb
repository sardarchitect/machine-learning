{
 "cells": [
  {
   "cell_type": "markdown",
   "metadata": {},
   "source": [
    "# VANILLA GAN - MNIST"
   ]
  },
  {
   "cell_type": "markdown",
   "metadata": {},
   "source": [
    "## IMPORTS"
   ]
  },
  {
   "cell_type": "code",
   "execution_count": 1,
   "metadata": {},
   "outputs": [],
   "source": [
    "import torch\n",
    "import torchvision\n",
    "\n",
    "import numpy as np\n",
    "import matplotlib.pyplot as plt\n",
    "\n",
    "import os\n",
    "import time"
   ]
  },
  {
   "cell_type": "code",
   "execution_count": 2,
   "metadata": {},
   "outputs": [
    {
     "data": {
      "text/plain": [
       "'cuda'"
      ]
     },
     "execution_count": 2,
     "metadata": {},
     "output_type": "execute_result"
    }
   ],
   "source": [
    "device = ('cuda' if torch.cuda.is_available() else 'cpu')\n",
    "device"
   ]
  },
  {
   "cell_type": "code",
   "execution_count": 3,
   "metadata": {},
   "outputs": [],
   "source": [
    "# torch.cuda.get_device_name(0)"
   ]
  },
  {
   "cell_type": "markdown",
   "metadata": {},
   "source": [
    "## HYPERPARAMETERS"
   ]
  },
  {
   "cell_type": "code",
   "execution_count": 4,
   "metadata": {},
   "outputs": [],
   "source": [
    "dataroot = '../storage/data/mnist_png/'\n",
    "saveroot = '../storage/GAN_Images/'\n",
    "test_number = 'Test_1'\n",
    "\n",
    "batch_size = 32\n",
    "workers = 4\n",
    "transforms = torchvision.transforms.Compose([\n",
    "    torchvision.transforms.Grayscale(1),\n",
    "    torchvision.transforms.ToTensor()\n",
    "])\n",
    "\n",
    "nz = 100\n",
    "\n",
    "lr = 0.0001\n",
    "betas = (0,0.9)\n",
    "Lambda_value = 10\n",
    "\n",
    "num_epochs = 10\n",
    "num_steps = 1000\n",
    "k = 5"
   ]
  },
  {
   "cell_type": "markdown",
   "metadata": {},
   "source": [
    "## DATASET"
   ]
  },
  {
   "cell_type": "code",
   "execution_count": 5,
   "metadata": {},
   "outputs": [],
   "source": [
    "ds = torchvision.datasets.ImageFolder(dataroot+'training', transforms)"
   ]
  },
  {
   "cell_type": "code",
   "execution_count": 6,
   "metadata": {},
   "outputs": [
    {
     "data": {
      "text/plain": [
       "60000"
      ]
     },
     "execution_count": 6,
     "metadata": {},
     "output_type": "execute_result"
    }
   ],
   "source": [
    "len(ds)"
   ]
  },
  {
   "cell_type": "code",
   "execution_count": 7,
   "metadata": {},
   "outputs": [],
   "source": [
    "dl = torch.utils.data.DataLoader(ds, batch_size, shuffle=True, num_workers=workers, pin_memory=True)"
   ]
  },
  {
   "cell_type": "markdown",
   "metadata": {},
   "source": [
    "## DATA ANALYSIS"
   ]
  },
  {
   "cell_type": "code",
   "execution_count": 8,
   "metadata": {},
   "outputs": [
    {
     "name": "stdout",
     "output_type": "stream",
     "text": [
      "torch.Size([32, 1, 28, 28]) torch.Size([32])\n"
     ]
    }
   ],
   "source": [
    "for data in (dl):\n",
    "    print(data[0].shape, data[1].shape)\n",
    "    break"
   ]
  },
  {
   "cell_type": "markdown",
   "metadata": {},
   "source": [
    "## MODEL"
   ]
  },
  {
   "cell_type": "code",
   "execution_count": 9,
   "metadata": {},
   "outputs": [],
   "source": [
    "class Generator(torch.nn.Module):\n",
    "    def __init__(self):\n",
    "        super(Generator, self).__init__()\n",
    "        \n",
    "        self.fc1 = torch.nn.Sequential(\n",
    "            torch.nn.Linear(nz, 256),\n",
    "            torch.nn.LeakyReLU(0.2)\n",
    "        )\n",
    "        self.fc2 = torch.nn.Sequential(\n",
    "            torch.nn.Linear(256, 512),\n",
    "            torch.nn.LeakyReLU(0.2)\n",
    "        )\n",
    "        self.fc3 = torch.nn.Sequential(\n",
    "            torch.nn.Linear(512, 1024),\n",
    "            torch.nn.LeakyReLU(0.2)\n",
    "        )\n",
    "        self.fc4 = torch.nn.Sequential(\n",
    "            torch.nn.Linear(1024, 784),\n",
    "            torch.nn.Tanh()\n",
    "        )\n",
    "        \n",
    "    def forward(self, x):\n",
    "        # x.shape = batch_size x nz\n",
    "        x = x.view(x.size(0), -1)\n",
    "        x = self.fc1(x)\n",
    "        x = self.fc2(x)\n",
    "        x = self.fc3(x)\n",
    "        x = self.fc4(x)\n",
    "        return x"
   ]
  },
  {
   "cell_type": "code",
   "execution_count": 10,
   "metadata": {},
   "outputs": [],
   "source": [
    "class Discriminator(torch.nn.Module):\n",
    "    def __init__(self):\n",
    "        super(Discriminator, self).__init__()\n",
    "        \n",
    "        self.fc1 = torch.nn.Sequential(\n",
    "            torch.nn.Linear(784 , 1024),\n",
    "            torch.nn.LeakyReLU(0.2),\n",
    "            torch.nn.Dropout(0.3)\n",
    "        )\n",
    "        self.fc2 = torch.nn.Sequential(\n",
    "            torch.nn.Linear(1024 , 512),\n",
    "            torch.nn.LeakyReLU(0.2),\n",
    "            torch.nn.Dropout(0.3)\n",
    "        )\n",
    "        self.fc3 = torch.nn.Sequential(\n",
    "            torch.nn.Linear(512 , 256),\n",
    "            torch.nn.LeakyReLU(0.2),\n",
    "            torch.nn.Dropout(0.3)\n",
    "        )\n",
    "        self.fc4 = torch.nn.Sequential(\n",
    "            torch.nn.Linear(256 , 1),\n",
    "            torch.nn.Sigmoid()\n",
    "        )\n",
    "        \n",
    "    def forward(self, x):\n",
    "        # (batch_size, 784) or (batch_size, 1, 28, 28)\n",
    "        x = x.view(x.size(0), -1)\n",
    "        x = self.fc1(x)\n",
    "        x = self.fc2(x)\n",
    "        x = self.fc3(x)\n",
    "        x = self.fc4(x)\n",
    "        return x"
   ]
  },
  {
   "cell_type": "code",
   "execution_count": 11,
   "metadata": {},
   "outputs": [],
   "source": [
    "discriminator = Discriminator().to(device)\n",
    "generator = Generator().to(device)"
   ]
  },
  {
   "cell_type": "code",
   "execution_count": 12,
   "metadata": {},
   "outputs": [
    {
     "name": "stdout",
     "output_type": "stream",
     "text": [
      "torch.Size([1024, 784])\n",
      "torch.Size([1024])\n",
      "torch.Size([512, 1024])\n",
      "torch.Size([512])\n",
      "torch.Size([256, 512])\n",
      "torch.Size([256])\n",
      "torch.Size([1, 256])\n",
      "torch.Size([1])\n"
     ]
    }
   ],
   "source": [
    "for params in discriminator.parameters():\n",
    "    print(params.shape)"
   ]
  },
  {
   "cell_type": "markdown",
   "metadata": {},
   "source": [
    "## LOSS AND OPTIMIZATION"
   ]
  },
  {
   "cell_type": "code",
   "execution_count": 13,
   "metadata": {},
   "outputs": [],
   "source": [
    "opt_d = torch.optim.Adam(discriminator.parameters(), lr, betas) ## WGAN-GP ##\n",
    "opt_g = torch.optim.Adam(generator.parameters(), lr, betas) ## WGAN-GP ##\n",
    "criterion = torch.nn.BCELoss() ## WGAN-GP ##"
   ]
  },
  {
   "cell_type": "code",
   "execution_count": 14,
   "metadata": {},
   "outputs": [],
   "source": [
    "real_labels = torch.ones((batch_size, 1)).to(device)\n",
    "fake_labels = torch.zeros((batch_size, 1)).to(device) ## WGAN-GP ##\n",
    "fixed_noise = torch.randn(batch_size, nz).to(device)"
   ]
  },
  {
   "cell_type": "code",
   "execution_count": 15,
   "metadata": {},
   "outputs": [],
   "source": [
    "# Gradient Penalty Loss\n",
    "\n",
    "'''\n",
    "x: real data\n",
    "y: generated data\n",
    "\n",
    "\n",
    "torch.autograd.grad(outputs, inputs, grad_outputs=None, retain_graph=None, create_graph=False, only_inputs=True, allow_unused=False)\n",
    "Computes and returns the sum of gradients of outputs w.r.t. the inputs.\n",
    "'''\n",
    "def calcGradientPenalty(x, y):\n",
    "\n",
    "  # inspect inputs dimensions\n",
    "  # print(x.shape, y.shape)\n",
    "  # torch.Size([64, 1, 784]) torch.Size([64, 784])\n",
    "  # remove the excess dimension\n",
    "  x = x.view(x.size(0), -1)\n",
    "  \n",
    "\n",
    "  # combine real and generated images\n",
    "  alpha = torch.rand(x.shape).to(device)\n",
    "  interpolated = alpha * x + (1 - alpha) * y\n",
    "  \n",
    "  # convert combination to torch variable with gradients\n",
    "  var_interpolated = torch.autograd.Variable(\n",
    "      interpolated, requires_grad=True).to(device)\n",
    "\n",
    "  # pass combination to the discriminator\n",
    "  outputs = discriminator(var_interpolated)\n",
    "\n",
    "  # find the gradients of the inputs\n",
    "  gradients = torch.autograd.grad(\n",
    "      outputs=outputs,\n",
    "      inputs=var_interpolated,\n",
    "      grad_outputs=torch.ones_like(outputs).to(device),\n",
    "      retain_graph=True,\n",
    "      create_graph=True,\n",
    "      only_inputs=False,\n",
    "      allow_unused=False\n",
    "  )[0]\n",
    "\n",
    "  # calculate the mean norm of the gradients\n",
    "  grad_norm = gradients.norm(2, dim=1).mean()\n",
    "\n",
    "  # calculate the deviation from the value one\n",
    "  loss = (grad_norm - 1) ** 2\n",
    "\n",
    "  # return the gradient penalty\n",
    "  return loss"
   ]
  },
  {
   "cell_type": "markdown",
   "metadata": {},
   "source": [
    "## PRE-TRAIN RUN"
   ]
  },
  {
   "cell_type": "code",
   "execution_count": 16,
   "metadata": {},
   "outputs": [
    {
     "name": "stdout",
     "output_type": "stream",
     "text": [
      "Real Shape: torch.Size([32, 1, 28, 28])\n",
      "Discriminator Out: torch.Size([32, 1])\n",
      "Loss: tensor(0.6968, device='cuda:0')\n",
      "Fake Shape: torch.Size([32, 784])\n",
      "Discriminator Out: torch.Size([32, 1])\n",
      "Loss: tensor(0.7036, device='cuda:0')\n"
     ]
    }
   ],
   "source": [
    "with torch.no_grad():\n",
    "    #REAL BATCH\n",
    "    for xb, _ in dl:\n",
    "        sample = xb.to(device)\n",
    "        break\n",
    "    print(\"Real Shape:\",sample.shape)\n",
    "    out = discriminator(sample)\n",
    "    print(\"Discriminator Out:\",out.shape)\n",
    "    loss = criterion(out, real_labels)\n",
    "    print(\"Loss:\",loss)\n",
    "    #FAKE BATCH\n",
    "    sample = generator(fixed_noise)\n",
    "    print(\"Fake Shape:\",sample.shape)\n",
    "    out = discriminator(sample)\n",
    "    print(\"Discriminator Out:\",out.shape)\n",
    "    loss = criterion(out, real_labels)\n",
    "    print(\"Loss:\",loss)"
   ]
  },
  {
   "cell_type": "markdown",
   "metadata": {},
   "source": [
    "## TRAIN"
   ]
  },
  {
   "cell_type": "code",
   "execution_count": 17,
   "metadata": {},
   "outputs": [],
   "source": [
    "def train_discriminator(images):\n",
    "    opt_d.zero_grad()\n",
    "    \n",
    "    real_images = images.to(device)\n",
    "    fake_images = generator(torch.randn(batch_size, nz).to(device))\n",
    "    \n",
    "    real_out = discriminator(real_images)\n",
    "    fake_out = discriminator(fake_images)\n",
    "    \n",
    "    real_loss = criterion(real_out, real_labels)\n",
    "    fake_loss = criterion(fake_out, fake_labels)\n",
    "    gan_loss = fake_loss - real_loss\n",
    "    \n",
    "    ## WGAN-GP ##\n",
    "    gradient_penalty = calcGradientPenalty(real_images, fake_images)\n",
    "    \n",
    "    loss = gan_loss + Lambda_value * gradient_penalty\n",
    "    \n",
    "    loss.backward()\n",
    "    opt_d.step()\n",
    "    \n",
    "    return loss"
   ]
  },
  {
   "cell_type": "code",
   "execution_count": 18,
   "metadata": {},
   "outputs": [],
   "source": [
    "def train_generator(images):\n",
    "    opt_g.zero_grad()\n",
    "    \n",
    "    real_images = images.to(device)\n",
    "    fake_images = generator(torch.randn(batch_size, nz).to(device))\n",
    "    \n",
    "    out = discriminator(fake_images)\n",
    "    \n",
    "    ## WGAN-GP ##\n",
    "    gan_loss = criterion(out, real_labels)\n",
    "    \n",
    "    gradient_penalty = calcGradientPenalty(real_images, fake_images)\n",
    "    \n",
    "    loss = gan_loss + Lambda_value * gradient_penalty\n",
    "    loss.backward()\n",
    "    opt_g.step()\n",
    "    \n",
    "    return loss"
   ]
  },
  {
   "cell_type": "code",
   "execution_count": 19,
   "metadata": {},
   "outputs": [
    {
     "name": "stderr",
     "output_type": "stream",
     "text": [
      "/usr/local/lib/python3.6/dist-packages/torch/autograd/__init__.py:130: UserWarning: only_inputs argument is deprecated and is ignored now (defaults to True). To accumulate gradient for other parts of the graph, please use torch.autograd.backward.\n",
      "  warnings.warn(\"only_inputs argument is deprecated and is ignored now \"\n"
     ]
    },
    {
     "name": "stdout",
     "output_type": "stream",
     "text": [
      "1/10 | loss_d: -35.44091796875 | loss_g: 4.295434474945068 | Time: 71 sec\n",
      "2/10 | loss_d: -27.207073211669922 | loss_g: 5.178190231323242 | Time: 145 sec\n",
      "3/10 | loss_d: -27.093839645385742 | loss_g: 5.022879123687744 | Time: 218 sec\n",
      "4/10 | loss_d: -29.01560401916504 | loss_g: 4.832801342010498 | Time: 291 sec\n",
      "5/10 | loss_d: -28.99791145324707 | loss_g: 4.5223588943481445 | Time: 363 sec\n",
      "6/10 | loss_d: -30.0228271484375 | loss_g: 4.130516052246094 | Time: 436 sec\n",
      "7/10 | loss_d: -30.90118980407715 | loss_g: 4.31961727142334 | Time: 509 sec\n",
      "8/10 | loss_d: -31.234460830688477 | loss_g: 4.21400785446167 | Time: 583 sec\n",
      "9/10 | loss_d: -33.00732421875 | loss_g: 4.117537498474121 | Time: 658 sec\n",
      "10/10 | loss_d: -32.86235427856445 | loss_g: 4.160242080688477 | Time: 733 sec\n"
     ]
    }
   ],
   "source": [
    "start_time = time.time()\n",
    "loss_D = []\n",
    "loss_G = []\n",
    "\n",
    "for epoch in range(num_epochs):\n",
    "    epoch += 1\n",
    "    loss_d = 0.0\n",
    "    loss_g = 0.0\n",
    "    \n",
    "    for i,(images,_) in enumerate(dl):\n",
    "        if i == num_steps:\n",
    "            break\n",
    "            \n",
    "        for _ in range(k):\n",
    "            loss_d += train_discriminator(images)\n",
    "            opt_d.step()\n",
    "        loss_g += train_generator(images)\n",
    "        opt_g.step()\n",
    "    loss_D.append(loss_d / k / i)\n",
    "    loss_G.append(loss_g / i)\n",
    "    \n",
    "    print(f'{epoch}/{num_epochs} | loss_d: {loss_d/k/i} | loss_g: {loss_g/i} | Time: {time.time() - start_time:.0f} sec')\n",
    "    if epoch%10==0:\n",
    "        sample = generator(fixed_noise).detach()\n",
    "        grid = torchvision.utils.make_grid(sample.view(-1, 1, 28, 28), nrow=8, pad_value=1, normalize=False)   \n",
    "        torchvision.utils.save_image(grid.detach().cpu(), os.path.join(saveroot, '20210126_MNIST_WGAN_GP_{}_{}.jpg'.format(str(test_number), str(epoch).zfill(3))))"
   ]
  },
  {
   "cell_type": "markdown",
   "metadata": {},
   "source": [
    "## TEST"
   ]
  },
  {
   "cell_type": "markdown",
   "metadata": {},
   "source": [
    "## EVALUATE"
   ]
  },
  {
   "cell_type": "code",
   "execution_count": 20,
   "metadata": {},
   "outputs": [
    {
     "data": {
      "image/png": "[encoded data removed]",
      "text/plain": [
       "<Figure size 432x288 with 1 Axes>"
      ]
     },
     "metadata": {
      "needs_background": "light"
     },
     "output_type": "display_data"
    }
   ],
   "source": [
    "plt.figure()\n",
    "\n",
    "plt.plot(loss_D, label='LOSS D')\n",
    "plt.plot(loss_G, label='LOSS G')\n",
    "plt.legend()\n",
    "plt.savefig('./20210126_MNIST_WGAN_GP_{}'.format(test_number))\n",
    "plt.show()"
   ]
  },
  {
   "cell_type": "markdown",
   "metadata": {},
   "source": [
    "## SAVE/ LOAD"
   ]
  },
  {
   "cell_type": "code",
   "execution_count": 21,
   "metadata": {},
   "outputs": [],
   "source": [
    "torch.save(generator.state_dict(), './20210126_MNIST_WGAN_GP_G.pt')\n",
    "torch.save(discriminator.state_dict(), './20210126_MNIST_WGAN_GP_D.pt')"
   ]
  }
 ],
 "metadata": {
  "kernelspec": {
   "display_name": "Python 3",
   "language": "python",
   "name": "python3"
  },
  "language_info": {
   "codemirror_mode": {
    "name": "ipython",
    "version": 3
   },
   "file_extension": ".py",
   "mimetype": "text/x-python",
   "name": "python",
   "nbconvert_exporter": "python",
   "pygments_lexer": "ipython3",
   "version": "3.8.5"
  }
 },
 "nbformat": 4,
 "nbformat_minor": 4
}
