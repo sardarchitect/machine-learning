{
 "cells": [
  {
   "cell_type": "markdown",
   "metadata": {},
   "source": [
    "# VANILLA GAN - MNIST"
   ]
  },
  {
   "cell_type": "markdown",
   "metadata": {},
   "source": [
    "## IMPORTS"
   ]
  },
  {
   "cell_type": "code",
   "execution_count": 1,
   "metadata": {},
   "outputs": [],
   "source": [
    "import torch\n",
    "import torchvision\n",
    "\n",
    "import numpy as np\n",
    "import matplotlib.pyplot as plt\n",
    "\n",
    "import os\n",
    "import time"
   ]
  },
  {
   "cell_type": "code",
   "execution_count": 2,
   "metadata": {},
   "outputs": [
    {
     "data": {
      "text/plain": [
       "'cuda'"
      ]
     },
     "execution_count": 2,
     "metadata": {},
     "output_type": "execute_result"
    }
   ],
   "source": [
    "device = ('cuda' if torch.cuda.is_available() else 'cpu')\n",
    "device"
   ]
  },
  {
   "cell_type": "code",
   "execution_count": 3,
   "metadata": {},
   "outputs": [],
   "source": [
    "# torch.cuda.get_device_name(0)"
   ]
  },
  {
   "cell_type": "markdown",
   "metadata": {},
   "source": [
    "## HYPERPARAMETERS"
   ]
  },
  {
   "cell_type": "code",
   "execution_count": 4,
   "metadata": {},
   "outputs": [],
   "source": [
    "dataroot = '../storage/data/mnist_png/'\n",
    "saveroot = '../storage/GAN_Images/'\n",
    "test_number = 'Test_1'\n",
    "\n",
    "batch_size = 32\n",
    "workers = 4\n",
    "transforms = torchvision.transforms.Compose([\n",
    "    torchvision.transforms.Grayscale(1),\n",
    "    torchvision.transforms.ToTensor()\n",
    "])\n",
    "\n",
    "nz = 100\n",
    "\n",
    "lr = 0.00005\n",
    "is_emd = True ## WGAN ##\n",
    "\n",
    "num_epochs = 100\n",
    "num_steps = 1000\n",
    "k = 5"
   ]
  },
  {
   "cell_type": "markdown",
   "metadata": {},
   "source": [
    "## DATASET"
   ]
  },
  {
   "cell_type": "code",
   "execution_count": 5,
   "metadata": {},
   "outputs": [],
   "source": [
    "ds = torchvision.datasets.ImageFolder(dataroot+'training', transforms)"
   ]
  },
  {
   "cell_type": "code",
   "execution_count": 6,
   "metadata": {},
   "outputs": [
    {
     "data": {
      "text/plain": [
       "60000"
      ]
     },
     "execution_count": 6,
     "metadata": {},
     "output_type": "execute_result"
    }
   ],
   "source": [
    "len(ds)"
   ]
  },
  {
   "cell_type": "code",
   "execution_count": 7,
   "metadata": {},
   "outputs": [],
   "source": [
    "dl = torch.utils.data.DataLoader(ds, batch_size, shuffle=True, num_workers=workers, pin_memory=True)"
   ]
  },
  {
   "cell_type": "markdown",
   "metadata": {},
   "source": [
    "## DATA ANALYSIS"
   ]
  },
  {
   "cell_type": "code",
   "execution_count": 8,
   "metadata": {},
   "outputs": [
    {
     "name": "stdout",
     "output_type": "stream",
     "text": [
      "torch.Size([32, 1, 28, 28]) torch.Size([32])\n"
     ]
    }
   ],
   "source": [
    "for data in (dl):\n",
    "    print(data[0].shape, data[1].shape)\n",
    "    break"
   ]
  },
  {
   "cell_type": "markdown",
   "metadata": {},
   "source": [
    "## MODEL"
   ]
  },
  {
   "cell_type": "code",
   "execution_count": 9,
   "metadata": {},
   "outputs": [],
   "source": [
    "class Generator(torch.nn.Module):\n",
    "    def __init__(self):\n",
    "        super(Generator, self).__init__()\n",
    "        \n",
    "        self.fc1 = torch.nn.Sequential(\n",
    "            torch.nn.Linear(nz, 256),\n",
    "            torch.nn.LeakyReLU(0.2)\n",
    "        )\n",
    "        self.fc2 = torch.nn.Sequential(\n",
    "            torch.nn.Linear(256, 512),\n",
    "            torch.nn.LeakyReLU(0.2)\n",
    "        )\n",
    "        self.fc3 = torch.nn.Sequential(\n",
    "            torch.nn.Linear(512, 1024),\n",
    "            torch.nn.LeakyReLU(0.2)\n",
    "        )\n",
    "        self.fc4 = torch.nn.Sequential(\n",
    "            torch.nn.Linear(1024, 784),\n",
    "            torch.nn.Tanh()\n",
    "        )\n",
    "        \n",
    "    def forward(self, x):\n",
    "        # x.shape = batch_size x nz\n",
    "        x = x.view(x.size(0), -1)\n",
    "        x = self.fc1(x)\n",
    "        x = self.fc2(x)\n",
    "        x = self.fc3(x)\n",
    "        x = self.fc4(x)\n",
    "        return x"
   ]
  },
  {
   "cell_type": "code",
   "execution_count": 10,
   "metadata": {},
   "outputs": [],
   "source": [
    "class Discriminator(torch.nn.Module):\n",
    "    def __init__(self):\n",
    "        super(Discriminator, self).__init__()\n",
    "        \n",
    "        self.fc1 = torch.nn.Sequential(\n",
    "            torch.nn.Linear(784 , 1024),\n",
    "            torch.nn.LeakyReLU(0.2),\n",
    "            torch.nn.Dropout(0.3)\n",
    "        )\n",
    "        self.fc2 = torch.nn.Sequential(\n",
    "            torch.nn.Linear(1024 , 512),\n",
    "            torch.nn.LeakyReLU(0.2),\n",
    "            torch.nn.Dropout(0.3)\n",
    "        )\n",
    "        self.fc3 = torch.nn.Sequential(\n",
    "            torch.nn.Linear(512 , 256),\n",
    "            torch.nn.LeakyReLU(0.2),\n",
    "            torch.nn.Dropout(0.3)\n",
    "        )\n",
    "        self.fc4 = torch.nn.Sequential(\n",
    "            torch.nn.Linear(256 , 1),\n",
    "            torch.nn.Sigmoid()\n",
    "        )\n",
    "        \n",
    "    def forward(self, x):\n",
    "        # (batch_size, 784) or (batch_size, 1, 28, 28)\n",
    "        x = x.view(x.size(0), -1)\n",
    "        x = self.fc1(x)\n",
    "        x = self.fc2(x)\n",
    "        x = self.fc3(x)\n",
    "        x = self.fc4(x)\n",
    "        return x ## WGAN ##"
   ]
  },
  {
   "cell_type": "code",
   "execution_count": 11,
   "metadata": {},
   "outputs": [],
   "source": [
    "discriminator = Discriminator().to(device)\n",
    "generator = Generator().to(device)"
   ]
  },
  {
   "cell_type": "code",
   "execution_count": 12,
   "metadata": {},
   "outputs": [
    {
     "name": "stdout",
     "output_type": "stream",
     "text": [
      "torch.Size([1024, 784])\n",
      "torch.Size([1024])\n",
      "torch.Size([512, 1024])\n",
      "torch.Size([512])\n",
      "torch.Size([256, 512])\n",
      "torch.Size([256])\n",
      "torch.Size([1, 256])\n",
      "torch.Size([1])\n"
     ]
    }
   ],
   "source": [
    "for params in discriminator.parameters():\n",
    "    print(params.shape)"
   ]
  },
  {
   "cell_type": "markdown",
   "metadata": {},
   "source": [
    "## LOSS AND OPTIMIZATION"
   ]
  },
  {
   "cell_type": "code",
   "execution_count": 13,
   "metadata": {},
   "outputs": [],
   "source": [
    "opt_d = torch.optim.RMSprop(discriminator.parameters(), lr) ## WGAN ##\n",
    "opt_g = torch.optim.RMSprop(generator.parameters(), lr) ## WGAN ##\n",
    "criterion = torch.nn.KLDivLoss() ## WGAN ##"
   ]
  },
  {
   "cell_type": "code",
   "execution_count": 14,
   "metadata": {},
   "outputs": [],
   "source": [
    "real_labels = torch.ones((batch_size, 1)).to(device)\n",
    "fake_labels = (-1 * torch.ones((batch_size, 1))).to(device) ## WGAN ##\n",
    "fixed_noise = torch.randn(batch_size, nz).to(device)"
   ]
  },
  {
   "cell_type": "markdown",
   "metadata": {},
   "source": [
    "## PRE-TRAIN RUN"
   ]
  },
  {
   "cell_type": "code",
   "execution_count": 15,
   "metadata": {},
   "outputs": [
    {
     "name": "stdout",
     "output_type": "stream",
     "text": [
      "torch.Size([32, 1, 28, 28])\n",
      "torch.Size([32, 1])\n",
      "tensor(-0.5030, device='cuda:0')\n",
      "torch.Size([32, 784])\n",
      "torch.Size([32, 1])\n",
      "tensor(-0.5059, device='cuda:0')\n"
     ]
    },
    {
     "name": "stderr",
     "output_type": "stream",
     "text": [
      "/usr/local/lib/python3.6/dist-packages/torch/nn/functional.py:1932: UserWarning: reduction: 'mean' divides the total loss by both the batch size and the support size.'batchmean' divides only by the batch size, and aligns with the KL div math definition.'mean' will be changed to behave the same as 'batchmean' in the next major release.\n",
      "  warnings.warn(\"reduction: 'mean' divides the total loss by both the batch size and the support size.\"\n"
     ]
    }
   ],
   "source": [
    "with torch.no_grad():\n",
    "    #REAL BATCH\n",
    "    for xb, _ in dl:\n",
    "        sample = xb.to(device)\n",
    "        break\n",
    "    print(sample.shape)\n",
    "    out = discriminator(sample)\n",
    "    print(out.shape)\n",
    "    loss = criterion(out, real_labels)\n",
    "    print(loss)\n",
    "    #FAKE BATCH\n",
    "    sample = generator(fixed_noise)\n",
    "    print(sample.shape)\n",
    "    out = discriminator(sample)\n",
    "    print(out.shape)\n",
    "    loss = criterion(out, real_labels)\n",
    "    print(loss)"
   ]
  },
  {
   "cell_type": "markdown",
   "metadata": {},
   "source": [
    "## TRAIN"
   ]
  },
  {
   "cell_type": "code",
   "execution_count": 16,
   "metadata": {},
   "outputs": [],
   "source": [
    "def train_discriminator(images):\n",
    "    ## WGAN ##\n",
    "    for p in discriminator.parameters():\n",
    "        p.data.clamp_(-0.01, 0.01)\n",
    "        \n",
    "    opt_d.zero_grad()\n",
    "    \n",
    "    real_images = images.to(device)\n",
    "    fake_images = generator(torch.randn(batch_size, nz).to(device))\n",
    "    \n",
    "    real_out = discriminator(real_images)\n",
    "    fake_out = discriminator(fake_images)\n",
    "    \n",
    "    ## WGAN ##\n",
    "    if is_emd:\n",
    "        real_out = real_out.mean(0).view(1)\n",
    "        fake_out = fake_out.mean(0).view(1)\n",
    "        real_out.backward(real_labels)\n",
    "        fake_out.backward(fake_labels)\n",
    "        \n",
    "        return (real_out - fake_out).item()\n",
    "        \n",
    "    else:\n",
    "        real_loss = criterion(real_out, real_labels)\n",
    "        fake_loss = criterion(fake_out, fake_labels)\n",
    "        real_loss.backward()\n",
    "        fake_loss.backward()\n",
    "        \n",
    "        return (real_loss + fake_loss).item()"
   ]
  },
  {
   "cell_type": "code",
   "execution_count": 17,
   "metadata": {},
   "outputs": [],
   "source": [
    "def train_generator():\n",
    "    opt_g.zero_grad()\n",
    "\n",
    "    out = discriminator(generator(torch.randn(batch_size, nz).to(device)))\n",
    "    \n",
    "    ## WGAN ##\n",
    "    if is_emd:\n",
    "        out = out.mean().mean(0).view(1)\n",
    "        out.backward(real_labels)\n",
    "        return -1*out.item()\n",
    "    else:\n",
    "        loss = criterion(out, real_labels)\n",
    "        loss.backward()\n",
    "    \n",
    "        return loss.item()"
   ]
  },
  {
   "cell_type": "code",
   "execution_count": 18,
   "metadata": {},
   "outputs": [
    {
     "name": "stdout",
     "output_type": "stream",
     "text": [
      "1/100 | loss_d: -0.4250073119521141 | loss_g: -0.5951452454328537 | Time: 27 sec\n",
      "2/100 | loss_d: -0.394642234057188 | loss_g: -0.6068307523727416 | Time: 52 sec\n",
      "3/100 | loss_d: -0.3532959159523249 | loss_g: -0.6046999133229256 | Time: 78 sec\n",
      "4/100 | loss_d: -0.3195822525411844 | loss_g: -0.6095139250457287 | Time: 104 sec\n",
      "5/100 | loss_d: -0.29973046661019326 | loss_g: -0.6220934563875198 | Time: 130 sec\n",
      "6/100 | loss_d: -0.2788818301141262 | loss_g: -0.6221330229043961 | Time: 156 sec\n",
      "7/100 | loss_d: -0.25494629368484023 | loss_g: -0.6133812649846077 | Time: 182 sec\n",
      "8/100 | loss_d: -0.23698006897568702 | loss_g: -0.6109957805871964 | Time: 212 sec\n",
      "9/100 | loss_d: -0.21603507826030255 | loss_g: -0.6014423681199551 | Time: 239 sec\n",
      "10/100 | loss_d: -0.19793472092151643 | loss_g: -0.600027548789978 | Time: 265 sec\n",
      "11/100 | loss_d: -0.17972498405575751 | loss_g: -0.5907938641905784 | Time: 291 sec\n",
      "12/100 | loss_d: -0.16665750343203545 | loss_g: -0.579804741114378 | Time: 316 sec\n",
      "13/100 | loss_d: -0.15819149752855302 | loss_g: -0.5733184969425201 | Time: 342 sec\n",
      "14/100 | loss_d: -0.15173807390928268 | loss_g: -0.5639692427814007 | Time: 368 sec\n",
      "15/100 | loss_d: -0.14334812673926353 | loss_g: -0.5609177407622338 | Time: 394 sec\n",
      "16/100 | loss_d: -0.1358855611950159 | loss_g: -0.5482721484899521 | Time: 420 sec\n",
      "17/100 | loss_d: -0.13190053670704363 | loss_g: -0.5398426814973354 | Time: 445 sec\n",
      "18/100 | loss_d: -0.12671878543794154 | loss_g: -0.5407027513086796 | Time: 472 sec\n",
      "19/100 | loss_d: -0.12384962853491306 | loss_g: -0.5377339000701904 | Time: 497 sec\n",
      "20/100 | loss_d: -0.12285851074159146 | loss_g: -0.5418588488996029 | Time: 524 sec\n",
      "21/100 | loss_d: -0.11935936203002931 | loss_g: -0.5370874007940293 | Time: 549 sec\n",
      "22/100 | loss_d: -0.11549113620817661 | loss_g: -0.5350263362824916 | Time: 575 sec\n",
      "23/100 | loss_d: -0.11539617671370506 | loss_g: -0.534493579506874 | Time: 601 sec\n",
      "24/100 | loss_d: -0.1104650177359581 | loss_g: -0.5278844931125641 | Time: 626 sec\n",
      "25/100 | loss_d: -0.11110725269317627 | loss_g: -0.5291204709410667 | Time: 652 sec\n",
      "26/100 | loss_d: -0.10704285531938076 | loss_g: -0.5295872999727727 | Time: 677 sec\n",
      "27/100 | loss_d: -0.105022471216321 | loss_g: -0.5225685001313687 | Time: 703 sec\n",
      "28/100 | loss_d: -0.10211778481304645 | loss_g: -0.5234295283555984 | Time: 727 sec\n",
      "29/100 | loss_d: -0.09908858859539033 | loss_g: -0.524548828959465 | Time: 753 sec\n",
      "30/100 | loss_d: -0.09749823459982872 | loss_g: -0.5170188301503659 | Time: 778 sec\n",
      "31/100 | loss_d: -0.09334655003547668 | loss_g: -0.5154483168721199 | Time: 803 sec\n",
      "32/100 | loss_d: -0.09398687614500523 | loss_g: -0.5185391753315926 | Time: 829 sec\n",
      "33/100 | loss_d: -0.09168662944734096 | loss_g: -0.5164674470126629 | Time: 854 sec\n",
      "34/100 | loss_d: -0.08865662493109702 | loss_g: -0.5135289376080037 | Time: 880 sec\n",
      "35/100 | loss_d: -0.08898932405412197 | loss_g: -0.5138414700627327 | Time: 906 sec\n",
      "36/100 | loss_d: -0.08688889575600624 | loss_g: -0.5192063721418381 | Time: 932 sec\n",
      "37/100 | loss_d: -0.08616383874714374 | loss_g: -0.5141624840199948 | Time: 958 sec\n",
      "38/100 | loss_d: -0.08521481072008609 | loss_g: -0.511043822646141 | Time: 983 sec\n",
      "39/100 | loss_d: -0.08570234429836274 | loss_g: -0.5173516946136951 | Time: 1008 sec\n",
      "40/100 | loss_d: -0.08439291795492172 | loss_g: -0.5140471541583538 | Time: 1033 sec\n",
      "41/100 | loss_d: -0.08313452002704143 | loss_g: -0.5152793654501439 | Time: 1058 sec\n",
      "42/100 | loss_d: -0.08274143587946893 | loss_g: -0.5133549074232578 | Time: 1084 sec\n",
      "43/100 | loss_d: -0.08325192466080189 | loss_g: -0.5142807115316391 | Time: 1110 sec\n",
      "44/100 | loss_d: -0.08304660228192806 | loss_g: -0.5172013594210148 | Time: 1135 sec\n",
      "45/100 | loss_d: -0.08007732116281986 | loss_g: -0.5137182077467441 | Time: 1160 sec\n",
      "46/100 | loss_d: -0.08104599300026893 | loss_g: -0.5123329377770424 | Time: 1185 sec\n",
      "47/100 | loss_d: -0.08055889728963375 | loss_g: -0.5093518944084644 | Time: 1211 sec\n",
      "48/100 | loss_d: -0.08034321847558022 | loss_g: -0.5120603507459164 | Time: 1236 sec\n",
      "49/100 | loss_d: -0.0779860714495182 | loss_g: -0.5114311358034611 | Time: 1263 sec\n",
      "50/100 | loss_d: -0.07779192806482316 | loss_g: -0.5168579826056957 | Time: 1288 sec\n",
      "51/100 | loss_d: -0.07671134783029557 | loss_g: -0.5157058525383472 | Time: 1313 sec\n",
      "52/100 | loss_d: -0.0759960243344307 | loss_g: -0.5131057773530483 | Time: 1339 sec\n",
      "53/100 | loss_d: -0.07630651535987855 | loss_g: -0.5116262529492378 | Time: 1364 sec\n",
      "54/100 | loss_d: -0.07573775612413883 | loss_g: -0.5046975651085377 | Time: 1390 sec\n",
      "55/100 | loss_d: -0.07506249937415123 | loss_g: -0.5126579172313214 | Time: 1415 sec\n",
      "56/100 | loss_d: -0.07468027950525284 | loss_g: -0.5164362518787384 | Time: 1441 sec\n",
      "57/100 | loss_d: -0.07383926712572574 | loss_g: -0.5089174416959286 | Time: 1467 sec\n",
      "58/100 | loss_d: -0.07453380998671055 | loss_g: -0.5131281416416168 | Time: 1492 sec\n",
      "59/100 | loss_d: -0.07396848608851432 | loss_g: -0.509157291084528 | Time: 1518 sec\n",
      "60/100 | loss_d: -0.07235691257715225 | loss_g: -0.5116269384920598 | Time: 1543 sec\n",
      "61/100 | loss_d: -0.07333840719759464 | loss_g: -0.5134893582463265 | Time: 1568 sec\n",
      "62/100 | loss_d: -0.07182216801941395 | loss_g: -0.5074209381043912 | Time: 1594 sec\n",
      "63/100 | loss_d: -0.07169942769408226 | loss_g: -0.510125573426485 | Time: 1618 sec\n",
      "64/100 | loss_d: -0.07096430633366109 | loss_g: -0.5118586440384388 | Time: 1644 sec\n",
      "65/100 | loss_d: -0.07053107911646365 | loss_g: -0.5098295645713806 | Time: 1669 sec\n",
      "66/100 | loss_d: -0.07042239713072777 | loss_g: -0.5146005228757858 | Time: 1695 sec\n",
      "67/100 | loss_d: -0.07099506232440471 | loss_g: -0.5184781463742256 | Time: 1720 sec\n",
      "68/100 | loss_d: -0.07156620244383813 | loss_g: -0.507249666377902 | Time: 1745 sec\n",
      "69/100 | loss_d: -0.07082666501700878 | loss_g: -0.5066972702294588 | Time: 1771 sec\n",
      "70/100 | loss_d: -0.07019056833088398 | loss_g: -0.5097978467345238 | Time: 1796 sec\n",
      "71/100 | loss_d: -0.06998962497413158 | loss_g: -0.5118276686668396 | Time: 1822 sec\n",
      "72/100 | loss_d: -0.07061588874161244 | loss_g: -0.5118699726760387 | Time: 1848 sec\n",
      "73/100 | loss_d: -0.07002352829873561 | loss_g: -0.5123671665489674 | Time: 1873 sec\n",
      "74/100 | loss_d: -0.0695785142481327 | loss_g: -0.5107009455561637 | Time: 1898 sec\n",
      "75/100 | loss_d: -0.068937639310956 | loss_g: -0.5103288322240114 | Time: 1923 sec\n",
      "76/100 | loss_d: -0.0682523858577013 | loss_g: -0.5071390283405781 | Time: 1948 sec\n",
      "77/100 | loss_d: -0.06769527207314968 | loss_g: -0.5151203687489033 | Time: 1973 sec\n",
      "78/100 | loss_d: -0.06830950866043568 | loss_g: -0.5078414250314236 | Time: 2000 sec\n",
      "79/100 | loss_d: -0.0681659271389246 | loss_g: -0.5192416684627533 | Time: 2024 sec\n",
      "80/100 | loss_d: -0.06733532483875751 | loss_g: -0.5060147216916084 | Time: 2049 sec\n",
      "81/100 | loss_d: -0.06759829423129558 | loss_g: -0.5117326969206333 | Time: 2074 sec\n",
      "82/100 | loss_d: -0.06697553896307946 | loss_g: -0.5066769533455372 | Time: 2099 sec\n",
      "83/100 | loss_d: -0.06646618346869945 | loss_g: -0.5074528886079788 | Time: 2125 sec\n",
      "84/100 | loss_d: -0.06680254909396172 | loss_g: -0.5058793419897556 | Time: 2150 sec\n",
      "85/100 | loss_d: -0.06536560162603855 | loss_g: -0.509123077750206 | Time: 2176 sec\n",
      "86/100 | loss_d: -0.06576091145277023 | loss_g: -0.5081486995220185 | Time: 2201 sec\n",
      "87/100 | loss_d: -0.06612442586421965 | loss_g: -0.5127494642138481 | Time: 2231 sec\n",
      "88/100 | loss_d: -0.06439591544568539 | loss_g: -0.513319878488779 | Time: 2257 sec\n",
      "89/100 | loss_d: -0.0654064358651638 | loss_g: -0.5112476895153523 | Time: 2282 sec\n",
      "90/100 | loss_d: -0.06531607660353184 | loss_g: -0.5141128778159618 | Time: 2308 sec\n",
      "91/100 | loss_d: -0.06506680673360825 | loss_g: -0.5103792256712913 | Time: 2333 sec\n",
      "92/100 | loss_d: -0.06533632699251174 | loss_g: -0.5092434428334236 | Time: 2359 sec\n",
      "93/100 | loss_d: -0.06485610583722591 | loss_g: -0.5184037452042103 | Time: 2384 sec\n",
      "94/100 | loss_d: -0.06367144115269184 | loss_g: -0.5145768495053052 | Time: 2409 sec\n",
      "95/100 | loss_d: -0.06422960971295834 | loss_g: -0.5141851290464401 | Time: 2436 sec\n",
      "96/100 | loss_d: -0.06343283104002476 | loss_g: -0.5121160742640495 | Time: 2461 sec\n",
      "97/100 | loss_d: -0.06293727250993252 | loss_g: -0.5138065446019172 | Time: 2487 sec\n",
      "98/100 | loss_d: -0.06419325698912144 | loss_g: -0.5082066338360309 | Time: 2513 sec\n",
      "99/100 | loss_d: -0.06332472441494465 | loss_g: -0.505833357423544 | Time: 2538 sec\n",
      "100/100 | loss_d: -0.06252700189054013 | loss_g: -0.5055962913483382 | Time: 2565 sec\n"
     ]
    }
   ],
   "source": [
    "start_time = time.time()\n",
    "loss_D = []\n",
    "loss_G = []\n",
    "\n",
    "for epoch in range(num_epochs):\n",
    "    epoch += 1\n",
    "    loss_d = 0.0\n",
    "    loss_g = 0.0\n",
    "    \n",
    "    for i,(images,_) in enumerate(dl):\n",
    "        if i == num_steps:\n",
    "            break\n",
    "            \n",
    "        for _ in range(k):\n",
    "            loss_d += train_discriminator(images)\n",
    "            opt_d.step()\n",
    "        loss_g += train_generator()\n",
    "        opt_g.step()\n",
    "    loss_D.append(loss_d / k / i)\n",
    "    loss_G.append(loss_g / i)\n",
    "    \n",
    "    print(f'{epoch}/{num_epochs} | loss_d: {loss_d/k/i} | loss_g: {loss_g/i} | Time: {time.time() - start_time:.0f} sec')\n",
    "    if epoch%10==0:\n",
    "        sample = generator(fixed_noise).detach()\n",
    "        grid = torchvision.utils.make_grid(sample.view(-1, 1, 28, 28), nrow=8, pad_value=1, normalize=False)   \n",
    "        torchvision.utils.save_image(grid.detach().cpu(), os.path.join(saveroot, '20210126_MNIST_WGAN_{}_{}.jpg'.format(str(test_number), str(epoch).zfill(3))))"
   ]
  },
  {
   "cell_type": "markdown",
   "metadata": {},
   "source": [
    "## TEST"
   ]
  },
  {
   "cell_type": "markdown",
   "metadata": {},
   "source": [
    "## EVALUATE"
   ]
  },
  {
   "cell_type": "code",
   "execution_count": 19,
   "metadata": {},
   "outputs": [
    {
     "data": {
      "image/png": "[encoded data removed]",
      "text/plain": [
       "<Figure size 432x288 with 1 Axes>"
      ]
     },
     "metadata": {
      "needs_background": "light"
     },
     "output_type": "display_data"
    }
   ],
   "source": [
    "plt.figure()\n",
    "\n",
    "plt.plot(loss_D, label='LOSS D')\n",
    "plt.plot(loss_G, label='LOSS G')\n",
    "plt.legend()\n",
    "plt.savefig('./20210126_MNIST_WGAN_{}'.format(test_number))\n",
    "plt.show()"
   ]
  },
  {
   "cell_type": "markdown",
   "metadata": {},
   "source": [
    "## SAVE/ LOAD"
   ]
  },
  {
   "cell_type": "code",
   "execution_count": 20,
   "metadata": {},
   "outputs": [],
   "source": [
    "torch.save(generator.state_dict(), './20210126_MNIST_WGAN_G.pt')\n",
    "torch.save(discriminator.state_dict(), './20210126_MNIST_WGAN_D.pt')"
   ]
  }
 ],
 "metadata": {
  "kernelspec": {
   "display_name": "Python 3",
   "language": "python",
   "name": "python3"
  },
  "language_info": {
   "codemirror_mode": {
    "name": "ipython",
    "version": 3
   },
   "file_extension": ".py",
   "mimetype": "text/x-python",
   "name": "python",
   "nbconvert_exporter": "python",
   "pygments_lexer": "ipython3",
   "version": "3.8.5"
  }
 },
 "nbformat": 4,
 "nbformat_minor": 4
}
