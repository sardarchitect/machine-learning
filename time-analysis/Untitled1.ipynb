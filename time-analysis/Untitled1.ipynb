{
 "cells": [
  {
   "cell_type": "code",
   "execution_count": 1,
   "id": "87145ccd",
   "metadata": {},
   "outputs": [],
   "source": [
    "from icalendar import Calendar, Event"
   ]
  },
  {
   "cell_type": "code",
   "execution_count": 2,
   "id": "09ab1979",
   "metadata": {},
   "outputs": [],
   "source": [
    "file_path = 'D:/00_SARDARCHITECTLABS/local data/google-calendar-data/Projects_cadsvskbdp4b4a5njoeh4lp314@group.calendar.google.com.ics'"
   ]
  },
  {
   "cell_type": "code",
   "execution_count": 3,
   "id": "277d01f9",
   "metadata": {},
   "outputs": [],
   "source": [
    "calendar = open(file_path, 'rb')\n",
    "project_calendar = Calendar.from_ical(calendar.read())"
   ]
  },
  {
   "cell_type": "code",
   "execution_count": null,
   "id": "2c07eda0",
   "metadata": {},
   "outputs": [],
   "source": [
    " "
   ]
  },
  {
   "cell_type": "code",
   "execution_count": 26,
   "id": "ad291f2a",
   "metadata": {},
   "outputs": [
    {
     "name": "stdout",
     "output_type": "stream",
     "text": [
      "VEVENT({'DTSTART': <icalendar.prop.vDDDTypes object at 0x000001EF9BDAC0A0>, 'DTEND': <icalendar.prop.vDDDTypes object at 0x000001EF9BD77F70>, 'DTSTAMP': <icalendar.prop.vDDDTypes object at 0x000001EF9BD77FA0>, 'UID': vText('b'4ggf3gmqfimgp15daltto2e63q@google.com''), 'CREATED': <icalendar.prop.vDDDTypes object at 0x000001EF9BD77E80>, 'DESCRIPTION': vText('b'''), 'LAST-MODIFIED': <icalendar.prop.vDDDTypes object at 0x000001EF9BD77DC0>, 'LOCATION': vText('b'''), 'SEQUENCE': 1, 'STATUS': vText('b'CONFIRMED''), 'SUMMARY': vText('b'Portfolio''), 'TRANSP': vText('b'OPAQUE'')})\n"
     ]
    }
   ],
   "source": [
    "for event in project_calendar.walk(\"VEVENT\"):\n",
    "    print(event)\n",
    "    break"
   ]
  },
  {
   "cell_type": "code",
   "execution_count": null,
   "id": "634f7473",
   "metadata": {},
   "outputs": [],
   "source": [
    "for event in project_calendar.walk(\"VEVENT\"):\n",
    "    \n",
    "    break"
   ]
  },
  {
   "cell_type": "code",
   "execution_count": null,
   "id": "a56b4213",
   "metadata": {},
   "outputs": [],
   "source": [
    "calendar.close()"
   ]
  }
 ],
 "metadata": {
  "kernelspec": {
   "display_name": "Python 3 (ipykernel)",
   "language": "python",
   "name": "python3"
  },
  "language_info": {
   "codemirror_mode": {
    "name": "ipython",
    "version": 3
   },
   "file_extension": ".py",
   "mimetype": "text/x-python",
   "name": "python",
   "nbconvert_exporter": "python",
   "pygments_lexer": "ipython3",
   "version": "3.10.4"
  }
 },
 "nbformat": 4,
 "nbformat_minor": 5
}
